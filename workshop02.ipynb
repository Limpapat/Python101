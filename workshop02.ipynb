{
  "nbformat": 4,
  "nbformat_minor": 0,
  "metadata": {
    "colab": {
      "name": "workshop02.ipynb",
      "provenance": [],
      "collapsed_sections": [],
      "authorship_tag": "ABX9TyNufR4Oqk2Tt2FKMNvVSQ2e",
      "include_colab_link": true
    },
    "kernelspec": {
      "name": "python3",
      "display_name": "Python 3"
    },
    "language_info": {
      "name": "python"
    }
  },
  "cells": [
    {
      "cell_type": "markdown",
      "metadata": {
        "id": "view-in-github",
        "colab_type": "text"
      },
      "source": [
        "<a href=\"https://colab.research.google.com/github/Limpapat/Python101/blob/main/workshop02.ipynb\" target=\"_parent\"><img src=\"https://colab.research.google.com/assets/colab-badge.svg\" alt=\"Open In Colab\"/></a>"
      ]
    },
    {
      "cell_type": "markdown",
      "metadata": {
        "id": "giPPBVBsIZzY"
      },
      "source": [
        "# Python 101 : Workshop #02\n",
        "by Limpapat Bussaban\n",
        "\n",
        "14/09/2021"
      ]
    },
    {
      "cell_type": "markdown",
      "metadata": {
        "id": "9V8o1VzPlNHa"
      },
      "source": [
        "**Put your inspiration and idea to present/visualize the following dataset.**"
      ]
    },
    {
      "cell_type": "code",
      "metadata": {
        "id": "L6cfT5FWKU9r"
      },
      "source": [
        "import numpy as np\n",
        "import pandas as pd\n",
        "import matplotlib.pyplot as plt"
      ],
      "execution_count": null,
      "outputs": []
    },
    {
      "cell_type": "code",
      "metadata": {
        "id": "QfwBOHmsBexX"
      },
      "source": [
        "!mkdir mydata\n",
        "!gdown --id 1_3XIn2QnZ8aBzpMooB4L8Q9HKXKakTDc --output /content/mydata/covid-19.xlsx"
      ],
      "execution_count": null,
      "outputs": []
    },
    {
      "cell_type": "code",
      "metadata": {
        "id": "FKNSdwCSTR52"
      },
      "source": [
        "DATA_ = pd.read_excel('/content/mydata/covid-19.xlsx')\n",
        "df = DATA_.copy()\n",
        "df.head(10)"
      ],
      "execution_count": null,
      "outputs": []
    }
  ]
}
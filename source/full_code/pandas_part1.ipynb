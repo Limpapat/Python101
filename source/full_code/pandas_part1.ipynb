{
  "nbformat": 4,
  "nbformat_minor": 0,
  "metadata": {
    "colab": {
      "name": "pandas_part1.ipynb",
      "provenance": [],
      "collapsed_sections": [],
      "toc_visible": true,
      "authorship_tag": "ABX9TyOkRp14+EfjivGmltGeKXTF",
      "include_colab_link": true
    },
    "kernelspec": {
      "name": "python3",
      "display_name": "Python 3"
    },
    "language_info": {
      "name": "python"
    }
  },
  "cells": [
    {
      "cell_type": "markdown",
      "metadata": {
        "id": "view-in-github",
        "colab_type": "text"
      },
      "source": [
        "<a href=\"https://colab.research.google.com/github/Limpapat/Python101/blob/main/pandas_part1.ipynb\" target=\"_parent\"><img src=\"https://colab.research.google.com/assets/colab-badge.svg\" alt=\"Open In Colab\"/></a>"
      ]
    },
    {
      "cell_type": "markdown",
      "metadata": {
        "id": "giPPBVBsIZzY"
      },
      "source": [
        "# Python 101 : Pandas : Data Preprocessing [Part 1]\n",
        "by Limpapat Bussaban\n",
        "\n",
        "04/09/2021\n",
        "\n",
        "[pandas] Python Data Analysis Library https://pandas.pydata.org \n",
        "\n",
        "[Datacamp] Cheat sheets http://datacamp-community-prod.s3.amazonaws.com/f04456d7-8e61-482f-9cc9-da6f7f25fc9b\n",
        "\n",
        "[pandas] Cheat sheets https://pandas.pydata.org/Pandas_Cheat_Sheet.pdf "
      ]
    },
    {
      "cell_type": "code",
      "metadata": {
        "colab": {
          "base_uri": "https://localhost:8080/"
        },
        "id": "A_UPtiJfIWSY",
        "outputId": "43e5f372-e5d5-45c3-835d-a4a1be1a025d"
      },
      "source": [
        "!pip list -v | grep [Pp]andas"
      ],
      "execution_count": 1,
      "outputs": [
        {
          "output_type": "stream",
          "name": "stdout",
          "text": [
            "pandas                        1.1.5          /usr/local/lib/python3.7/dist-packages pip\n",
            "pandas-datareader             0.9.0          /usr/local/lib/python3.7/dist-packages pip\n",
            "pandas-gbq                    0.13.3         /usr/local/lib/python3.7/dist-packages pip\n",
            "pandas-profiling              1.4.1          /usr/local/lib/python3.7/dist-packages pip\n",
            "sklearn-pandas                1.8.0          /usr/local/lib/python3.7/dist-packages pip\n"
          ]
        }
      ]
    },
    {
      "cell_type": "code",
      "metadata": {
        "colab": {
          "base_uri": "https://localhost:8080/",
          "height": 58
        },
        "id": "L6cfT5FWKU9r",
        "outputId": "190e26e4-6452-4ec7-fe28-772cf2f3cda0"
      },
      "source": [
        "import numpy as np\n",
        "\n",
        "import pandas as pd\n",
        "pd.__version__"
      ],
      "execution_count": 2,
      "outputs": [
        {
          "output_type": "execute_result",
          "data": {
            "application/vnd.google.colaboratory.intrinsic+json": {
              "type": "string"
            },
            "text/plain": [
              "'1.1.5'"
            ]
          },
          "metadata": {},
          "execution_count": 2
        }
      ]
    },
    {
      "cell_type": "markdown",
      "metadata": {
        "id": "xIUHdINVAF0D"
      },
      "source": [
        "## Why we need to prepare data?"
      ]
    },
    {
      "cell_type": "markdown",
      "metadata": {
        "id": "xXRLz-Up-mYy"
      },
      "source": [
        "## Series"
      ]
    },
    {
      "cell_type": "markdown",
      "metadata": {
        "id": "BAGsS2H1BVn-"
      },
      "source": [
        "```\n",
        "pd.Series(data=None, index=None, dtype=None, name=None)\n",
        "```\n",
        "**Parameters** : \n",
        "\n",
        "            data : array-like, Iterable, dict, or scalar value\n",
        "            index : array-like or Index (1d) \n",
        "            detype : str, numpy.dtype, or ExtensionDtype, optional\n",
        "            name : str, optional"
      ]
    },
    {
      "cell_type": "code",
      "metadata": {
        "id": "juy6gOnJKlZb",
        "colab": {
          "base_uri": "https://localhost:8080/"
        },
        "outputId": "27694252-07f5-4135-c09a-7248bc8a45f8"
      },
      "source": [
        "data = np.array([1,2,3,4,5])\n",
        "sr = pd.Series(data, index=list('abcde'), name='integer')\n",
        "sr"
      ],
      "execution_count": 3,
      "outputs": [
        {
          "output_type": "execute_result",
          "data": {
            "text/plain": [
              "a    1\n",
              "b    2\n",
              "c    3\n",
              "d    4\n",
              "e    5\n",
              "Name: integer, dtype: int64"
            ]
          },
          "metadata": {},
          "execution_count": 3
        }
      ]
    },
    {
      "cell_type": "markdown",
      "metadata": {
        "id": "qtQWTKuQD88C"
      },
      "source": [
        "### Indexing, Slicing & Filtering"
      ]
    },
    {
      "cell_type": "markdown",
      "metadata": {
        "id": "-m3Ym2SPFMsw"
      },
      "source": [
        "```\n",
        ".index\n",
        ".values\n",
        "```"
      ]
    },
    {
      "cell_type": "code",
      "metadata": {
        "colab": {
          "base_uri": "https://localhost:8080/"
        },
        "id": "76OOGbWFEg5m",
        "outputId": "15066cc0-a2ac-4eae-f656-f3be5fd6a6aa"
      },
      "source": [
        "print(sr.index, sr.values, sep='\\n\\n')"
      ],
      "execution_count": 4,
      "outputs": [
        {
          "output_type": "stream",
          "name": "stdout",
          "text": [
            "Index(['a', 'b', 'c', 'd', 'e'], dtype='object')\n",
            "\n",
            "[1 2 3 4 5]\n"
          ]
        }
      ]
    },
    {
      "cell_type": "markdown",
      "metadata": {
        "id": "5myVrRpoF2kw"
      },
      "source": [
        "```\n",
        "sr[index]\n",
        "index : index_name or list\n",
        "```"
      ]
    },
    {
      "cell_type": "code",
      "metadata": {
        "colab": {
          "base_uri": "https://localhost:8080/"
        },
        "id": "dcZFiggwGDBt",
        "outputId": "fb738410-47aa-4449-9b30-880a14523668"
      },
      "source": [
        "sr['a']"
      ],
      "execution_count": 5,
      "outputs": [
        {
          "output_type": "execute_result",
          "data": {
            "text/plain": [
              "1"
            ]
          },
          "metadata": {},
          "execution_count": 5
        }
      ]
    },
    {
      "cell_type": "code",
      "metadata": {
        "colab": {
          "base_uri": "https://localhost:8080/"
        },
        "id": "kBMRnRsDGQ_R",
        "outputId": "51cd80fe-4ae1-4ff9-a9fc-51b2aedd09d9"
      },
      "source": [
        "sr[['b', 'c']]"
      ],
      "execution_count": 6,
      "outputs": [
        {
          "output_type": "execute_result",
          "data": {
            "text/plain": [
              "b    2\n",
              "c    3\n",
              "Name: integer, dtype: int64"
            ]
          },
          "metadata": {},
          "execution_count": 6
        }
      ]
    },
    {
      "cell_type": "markdown",
      "metadata": {
        "id": "AX8MXHi8GlMZ"
      },
      "source": [
        "```\n",
        "sr[start:stop:step]\n",
        "```"
      ]
    },
    {
      "cell_type": "code",
      "metadata": {
        "colab": {
          "base_uri": "https://localhost:8080/"
        },
        "id": "DW_jSAoXGpTa",
        "outputId": "57276e23-3258-48c1-d8f4-5571f76979c0"
      },
      "source": [
        "sr['a':'e':2]"
      ],
      "execution_count": 7,
      "outputs": [
        {
          "output_type": "execute_result",
          "data": {
            "text/plain": [
              "a    1\n",
              "c    3\n",
              "e    5\n",
              "Name: integer, dtype: int64"
            ]
          },
          "metadata": {},
          "execution_count": 7
        }
      ]
    },
    {
      "cell_type": "markdown",
      "metadata": {
        "id": "BA7Kr_k1I9sE"
      },
      "source": [
        "```\n",
        "sr[condition] -> & and, | or\n",
        "```"
      ]
    },
    {
      "cell_type": "code",
      "metadata": {
        "colab": {
          "base_uri": "https://localhost:8080/"
        },
        "id": "ACOHWVHPJEHU",
        "outputId": "eade5ec2-e2d1-4247-d079-6714e818c657"
      },
      "source": [
        "sr[(sr < 2) | (sr >= 4)]"
      ],
      "execution_count": 8,
      "outputs": [
        {
          "output_type": "execute_result",
          "data": {
            "text/plain": [
              "a    1\n",
              "d    4\n",
              "e    5\n",
              "Name: integer, dtype: int64"
            ]
          },
          "metadata": {},
          "execution_count": 8
        }
      ]
    },
    {
      "cell_type": "markdown",
      "metadata": {
        "id": "nzMkEqtrIb1x"
      },
      "source": [
        "### loc & iloc"
      ]
    },
    {
      "cell_type": "code",
      "metadata": {
        "colab": {
          "base_uri": "https://localhost:8080/"
        },
        "id": "wdQbE7jNMfUZ",
        "outputId": "e2b33652-9e8d-4bea-f665-a739bbaae411"
      },
      "source": [
        "sr = pd.Series(data=[22, 45, 69, 999, -1, 10], index=[1, 3, 4, 5, 6, 10])\n",
        "sr"
      ],
      "execution_count": 9,
      "outputs": [
        {
          "output_type": "execute_result",
          "data": {
            "text/plain": [
              "1      22\n",
              "3      45\n",
              "4      69\n",
              "5     999\n",
              "6      -1\n",
              "10     10\n",
              "dtype: int64"
            ]
          },
          "metadata": {},
          "execution_count": 9
        }
      ]
    },
    {
      "cell_type": "markdown",
      "metadata": {
        "id": "0adraUjiMkpD"
      },
      "source": [
        "```\n",
        "position index = [0,   1,  2,   3,  4,  5]\n",
        "label index    = [1,   3,  4,   5,  6, 10]\n",
        "values         = [22, 45, 69, 999, -1, 10]\n",
        "```"
      ]
    },
    {
      "cell_type": "code",
      "metadata": {
        "colab": {
          "base_uri": "https://localhost:8080/"
        },
        "id": "Vglc2bWINvEE",
        "outputId": "e72bc165-1471-462d-c106-5b1c1cec991e"
      },
      "source": [
        "sr[1:4]"
      ],
      "execution_count": 10,
      "outputs": [
        {
          "output_type": "execute_result",
          "data": {
            "text/plain": [
              "3     45\n",
              "4     69\n",
              "5    999\n",
              "dtype: int64"
            ]
          },
          "metadata": {},
          "execution_count": 10
        }
      ]
    },
    {
      "cell_type": "markdown",
      "metadata": {
        "id": "BqpNetEEOcVj"
      },
      "source": [
        "```\n",
        "sr.loc[label_index] # -> Access a group of rows and columns by label(s) or a boolean array.\n",
        "```"
      ]
    },
    {
      "cell_type": "code",
      "metadata": {
        "colab": {
          "base_uri": "https://localhost:8080/"
        },
        "id": "8238nY1COp48",
        "outputId": "92c9280e-e048-4070-a11b-9253aed61502"
      },
      "source": [
        "sr.loc[1:4]"
      ],
      "execution_count": 11,
      "outputs": [
        {
          "output_type": "execute_result",
          "data": {
            "text/plain": [
              "1    22\n",
              "3    45\n",
              "4    69\n",
              "dtype: int64"
            ]
          },
          "metadata": {},
          "execution_count": 11
        }
      ]
    },
    {
      "cell_type": "markdown",
      "metadata": {
        "id": "hsSigfC0PSeT"
      },
      "source": [
        "```\n",
        "sr.iloc[position_index] # -> Purely integer-location based indexing for selection by position.\n",
        "```"
      ]
    },
    {
      "cell_type": "code",
      "metadata": {
        "colab": {
          "base_uri": "https://localhost:8080/"
        },
        "id": "jWM4wWV_Pfq4",
        "outputId": "b685052a-71d2-4849-834b-8ee47d8d3a26"
      },
      "source": [
        "sr.iloc[1:4] # == sr[1:4]"
      ],
      "execution_count": 12,
      "outputs": [
        {
          "output_type": "execute_result",
          "data": {
            "text/plain": [
              "3     45\n",
              "4     69\n",
              "5    999\n",
              "dtype: int64"
            ]
          },
          "metadata": {},
          "execution_count": 12
        }
      ]
    },
    {
      "cell_type": "markdown",
      "metadata": {
        "id": "8LUVpBMDIhJj"
      },
      "source": [
        "### Useful functions"
      ]
    },
    {
      "cell_type": "markdown",
      "metadata": {
        "id": "1JgSBtDDPpwH"
      },
      "source": [
        "**Math operators :**\n",
        "```\n",
        " + - * ** / // %\n",
        "```"
      ]
    },
    {
      "cell_type": "code",
      "metadata": {
        "colab": {
          "base_uri": "https://localhost:8080/"
        },
        "id": "dmtDrdc6RHCq",
        "outputId": "0614e032-1d2d-4cb0-ea52-b4e18987b0f7"
      },
      "source": [
        "sr1 = pd.Series(data=[2, 4, 8, 6])\n",
        "sr2 = pd.Series(data=[1, 3, 5, 7])\n",
        "print(sr1+sr2, sr1-sr2, sr1*sr2, sr1**sr2, sr1/sr2, sr1//sr2, sr1%sr2, sep='\\n\\n')"
      ],
      "execution_count": 13,
      "outputs": [
        {
          "output_type": "stream",
          "name": "stdout",
          "text": [
            "0     3\n",
            "1     7\n",
            "2    13\n",
            "3    13\n",
            "dtype: int64\n",
            "\n",
            "0    1\n",
            "1    1\n",
            "2    3\n",
            "3   -1\n",
            "dtype: int64\n",
            "\n",
            "0     2\n",
            "1    12\n",
            "2    40\n",
            "3    42\n",
            "dtype: int64\n",
            "\n",
            "0         2\n",
            "1        64\n",
            "2     32768\n",
            "3    279936\n",
            "dtype: int64\n",
            "\n",
            "0    2.000000\n",
            "1    1.333333\n",
            "2    1.600000\n",
            "3    0.857143\n",
            "dtype: float64\n",
            "\n",
            "0    2\n",
            "1    1\n",
            "2    1\n",
            "3    0\n",
            "dtype: int64\n",
            "\n",
            "0    0\n",
            "1    1\n",
            "2    3\n",
            "3    6\n",
            "dtype: int64\n"
          ]
        }
      ]
    },
    {
      "cell_type": "code",
      "metadata": {
        "id": "92hjA0ZaRBxd",
        "colab": {
          "base_uri": "https://localhost:8080/"
        },
        "outputId": "7cbe0206-9505-45c9-df02-d742557fca0c"
      },
      "source": [
        "# Tip:\n",
        "s1 = pd.Series(data=[2, 4, 8, 6], index=list('abcd'))\n",
        "s2 = pd.Series(data=[1, 3, 5, 7], index=['b', 'c', 'f', 'g'])\n",
        "s1 + s2"
      ],
      "execution_count": 14,
      "outputs": [
        {
          "output_type": "execute_result",
          "data": {
            "text/plain": [
              "a     NaN\n",
              "b     5.0\n",
              "c    11.0\n",
              "d     NaN\n",
              "f     NaN\n",
              "g     NaN\n",
              "dtype: float64"
            ]
          },
          "metadata": {},
          "execution_count": 14
        }
      ]
    },
    {
      "cell_type": "markdown",
      "metadata": {
        "id": "t_rupkkrQgu9"
      },
      "source": [
        "**Functions :**\n",
        "``` \n",
        ".sum()\n",
        ".count() or .size\n",
        ".mean()\n",
        ".min(), .max()\n",
        ".describe()\n",
        ".idxmin(), .idxmax()\n",
        "```"
      ]
    },
    {
      "cell_type": "code",
      "metadata": {
        "colab": {
          "base_uri": "https://localhost:8080/"
        },
        "id": "b3Xir-oTRwrg",
        "outputId": "aa8d984a-9a01-4bdd-c7de-e7e771cefc4e"
      },
      "source": [
        "print('sr1.sum: {}'.format(sr1.sum()))"
      ],
      "execution_count": 15,
      "outputs": [
        {
          "output_type": "stream",
          "name": "stdout",
          "text": [
            "sr1.sum: 20\n"
          ]
        }
      ]
    },
    {
      "cell_type": "code",
      "metadata": {
        "colab": {
          "base_uri": "https://localhost:8080/"
        },
        "id": "G8ieI0-dRyJi",
        "outputId": "e804ba37-7194-48d4-a820-d4f03094458b"
      },
      "source": [
        "print('sr1.count: {}'.format(sr1.count()), 'sr1.size: {}'.format(sr1.size), sep='\\n\\n')"
      ],
      "execution_count": 16,
      "outputs": [
        {
          "output_type": "stream",
          "name": "stdout",
          "text": [
            "sr1.count: 4\n",
            "\n",
            "sr1.size: 4\n"
          ]
        }
      ]
    },
    {
      "cell_type": "code",
      "metadata": {
        "colab": {
          "base_uri": "https://localhost:8080/"
        },
        "id": "7DhXdZCaC7Si",
        "outputId": "9a5d7c92-75fd-431e-dbfe-d8c27c5180ae"
      },
      "source": [
        "print('sr1.mean: {}'.format(sr1.mean()), \n",
        "      'sr1.std: {}'.format(sr1.std()), \n",
        "      'sr1.min: {}, sr1.max: {}'.format(sr1.min(), sr1.max()), \n",
        "      sep='\\n\\n')"
      ],
      "execution_count": 17,
      "outputs": [
        {
          "output_type": "stream",
          "name": "stdout",
          "text": [
            "sr1.mean: 5.0\n",
            "\n",
            "sr1.std: 2.581988897471611\n",
            "\n",
            "sr1.min: 2, sr1.max: 8\n"
          ]
        }
      ]
    },
    {
      "cell_type": "code",
      "metadata": {
        "colab": {
          "base_uri": "https://localhost:8080/"
        },
        "id": "O1LORXYXEzKY",
        "outputId": "270aaf19-908f-463c-edd7-f768da2497cc"
      },
      "source": [
        "sr1.describe()"
      ],
      "execution_count": 18,
      "outputs": [
        {
          "output_type": "execute_result",
          "data": {
            "text/plain": [
              "count    4.000000\n",
              "mean     5.000000\n",
              "std      2.581989\n",
              "min      2.000000\n",
              "25%      3.500000\n",
              "50%      5.000000\n",
              "75%      6.500000\n",
              "max      8.000000\n",
              "dtype: float64"
            ]
          },
          "metadata": {},
          "execution_count": 18
        }
      ]
    },
    {
      "cell_type": "code",
      "metadata": {
        "colab": {
          "base_uri": "https://localhost:8080/"
        },
        "id": "4awVOfz9E7P8",
        "outputId": "d83dc24f-4d45-4f3d-b027-895ee4c22e20"
      },
      "source": [
        "print('sr1.idxmin: {}, sr1.idxmax: {}'.format(sr1.idxmin(), sr1.idxmax()))"
      ],
      "execution_count": 19,
      "outputs": [
        {
          "output_type": "stream",
          "name": "stdout",
          "text": [
            "sr1.idxmin: 0, sr1.idxmax: 2\n"
          ]
        }
      ]
    },
    {
      "cell_type": "markdown",
      "metadata": {
        "id": "2IP-KimxHHCZ"
      },
      "source": [
        "```\n",
        "(condition).all(), (condition).any()\n",
        "```"
      ]
    },
    {
      "cell_type": "code",
      "metadata": {
        "colab": {
          "base_uri": "https://localhost:8080/"
        },
        "id": "imbt0DyHFRy_",
        "outputId": "167fbdad-6123-4824-b771-3f5187bde4ca"
      },
      "source": [
        "(sr1 > 3).all(), (sr1 > 3).any()"
      ],
      "execution_count": 20,
      "outputs": [
        {
          "output_type": "execute_result",
          "data": {
            "text/plain": [
              "(False, True)"
            ]
          },
          "metadata": {},
          "execution_count": 20
        }
      ]
    },
    {
      "cell_type": "markdown",
      "metadata": {
        "id": "z3wHZJlKIPum"
      },
      "source": [
        "```\n",
        ".append(to_append, ignore_index=False)\n",
        "pd.concat(objs, axis=0, ignore_index=False)\n",
        "```"
      ]
    },
    {
      "cell_type": "code",
      "metadata": {
        "colab": {
          "base_uri": "https://localhost:8080/"
        },
        "id": "PJkQe7CBGL6Y",
        "outputId": "5add8424-7b9d-4e69-a286-a733f1b2ee20"
      },
      "source": [
        "print(sr1.append(sr2), pd.concat([sr1, sr2]), sep='\\n\\n')"
      ],
      "execution_count": 21,
      "outputs": [
        {
          "output_type": "stream",
          "name": "stdout",
          "text": [
            "0    2\n",
            "1    4\n",
            "2    8\n",
            "3    6\n",
            "0    1\n",
            "1    3\n",
            "2    5\n",
            "3    7\n",
            "dtype: int64\n",
            "\n",
            "0    2\n",
            "1    4\n",
            "2    8\n",
            "3    6\n",
            "0    1\n",
            "1    3\n",
            "2    5\n",
            "3    7\n",
            "dtype: int64\n"
          ]
        }
      ]
    },
    {
      "cell_type": "markdown",
      "metadata": {
        "id": "9FYHpEm2I4X3"
      },
      "source": [
        "```\n",
        ".apply()\n",
        "```"
      ]
    },
    {
      "cell_type": "code",
      "metadata": {
        "colab": {
          "base_uri": "https://localhost:8080/"
        },
        "id": "MlOuC-u2KdoM",
        "outputId": "5ecb9d04-7a2f-491b-f2a4-107172eb127a"
      },
      "source": [
        "my_function = lambda x : x**2\n",
        "sr1.apply(my_function)"
      ],
      "execution_count": 22,
      "outputs": [
        {
          "output_type": "execute_result",
          "data": {
            "text/plain": [
              "0     4\n",
              "1    16\n",
              "2    64\n",
              "3    36\n",
              "dtype: int64"
            ]
          },
          "metadata": {},
          "execution_count": 22
        }
      ]
    },
    {
      "cell_type": "markdown",
      "metadata": {
        "id": "JQEmQOe0IW3P"
      },
      "source": [
        "```\n",
        ".unique()\n",
        ".nunique()\n",
        ".value_counts()\n",
        ".is_unique()\n",
        "```"
      ]
    },
    {
      "cell_type": "code",
      "metadata": {
        "colab": {
          "base_uri": "https://localhost:8080/"
        },
        "id": "ZVvJb9pbKo1N",
        "outputId": "49abe807-b2eb-4675-f9dc-ef42a76d8d74"
      },
      "source": [
        "sr3 = pd.Series([2, 3, 3, 3, 4, 4, 4, 4, 5, 5, 9])\n",
        "print('sr3.unique: {}'.format(sr3.unique()), \n",
        "      'sr3.nunique: {}'.format(sr3.nunique()), \n",
        "      'sr3.value_count: \\n{}'.format(sr3.value_counts()),\n",
        "      'sr3.is_unique: {}'.format(sr3.is_unique),\n",
        "      'sr1.is_unique: {}'.format(sr1.is_unique),\n",
        "      sep='\\n\\n')"
      ],
      "execution_count": 23,
      "outputs": [
        {
          "output_type": "stream",
          "name": "stdout",
          "text": [
            "sr3.unique: [2 3 4 5 9]\n",
            "\n",
            "sr3.nunique: 5\n",
            "\n",
            "sr3.value_count: \n",
            "4    4\n",
            "3    3\n",
            "5    2\n",
            "9    1\n",
            "2    1\n",
            "dtype: int64\n",
            "\n",
            "sr3.is_unique: False\n",
            "\n",
            "sr1.is_unique: True\n"
          ]
        }
      ]
    },
    {
      "cell_type": "markdown",
      "metadata": {
        "id": "nsu_leusKpEJ"
      },
      "source": [
        "\n",
        "```\n",
        ".head(n) \n",
        ".tail(n)\n",
        "```\n",
        "\n"
      ]
    },
    {
      "cell_type": "code",
      "metadata": {
        "colab": {
          "base_uri": "https://localhost:8080/"
        },
        "id": "BESosuMBM7UI",
        "outputId": "d2dc8939-2396-4a6a-bbd7-3970f9505c5c"
      },
      "source": [
        "sr3.head(3)"
      ],
      "execution_count": 24,
      "outputs": [
        {
          "output_type": "execute_result",
          "data": {
            "text/plain": [
              "0    2\n",
              "1    3\n",
              "2    3\n",
              "dtype: int64"
            ]
          },
          "metadata": {},
          "execution_count": 24
        }
      ]
    },
    {
      "cell_type": "markdown",
      "metadata": {
        "id": "KqkF1fFaNib7"
      },
      "source": [
        "```\n",
        ".drop(index)\n",
        "```"
      ]
    },
    {
      "cell_type": "code",
      "metadata": {
        "colab": {
          "base_uri": "https://localhost:8080/"
        },
        "id": "9bCh7IlyNt0u",
        "outputId": "fd296aaa-513c-45c6-8057-4ffc862f2f6e"
      },
      "source": [
        "sr4 = pd.Series(data=[9, 8, 7, 6], index=list('abcd'))\n",
        "sr4.drop(['b', 'd'])"
      ],
      "execution_count": 25,
      "outputs": [
        {
          "output_type": "execute_result",
          "data": {
            "text/plain": [
              "a    9\n",
              "c    7\n",
              "dtype: int64"
            ]
          },
          "metadata": {},
          "execution_count": 25
        }
      ]
    },
    {
      "cell_type": "markdown",
      "metadata": {
        "id": "3ZQqEjLMNlW_"
      },
      "source": [
        "```\n",
        ".map(dict)\n",
        "```"
      ]
    },
    {
      "cell_type": "code",
      "metadata": {
        "colab": {
          "base_uri": "https://localhost:8080/"
        },
        "id": "hLdMIEy5OFfL",
        "outputId": "b7ad8d55-6613-42aa-e51b-507c09f4024e"
      },
      "source": [
        "sr4.map({9:1, 8:2})"
      ],
      "execution_count": 26,
      "outputs": [
        {
          "output_type": "execute_result",
          "data": {
            "text/plain": [
              "a    1.0\n",
              "b    2.0\n",
              "c    NaN\n",
              "d    NaN\n",
              "dtype: float64"
            ]
          },
          "metadata": {},
          "execution_count": 26
        }
      ]
    },
    {
      "cell_type": "markdown",
      "metadata": {
        "id": "5R3wbU4zNod2"
      },
      "source": [
        "```\n",
        ".rename()\n",
        "```"
      ]
    },
    {
      "cell_type": "code",
      "metadata": {
        "colab": {
          "base_uri": "https://localhost:8080/"
        },
        "id": "HsCJdjrgPuCn",
        "outputId": "c22a9e72-eb0e-4704-c446-3dd3c569ee98"
      },
      "source": [
        "sr4.rename('my_name')"
      ],
      "execution_count": 27,
      "outputs": [
        {
          "output_type": "execute_result",
          "data": {
            "text/plain": [
              "a    9\n",
              "b    8\n",
              "c    7\n",
              "d    6\n",
              "Name: my_name, dtype: int64"
            ]
          },
          "metadata": {},
          "execution_count": 27
        }
      ]
    },
    {
      "cell_type": "code",
      "metadata": {
        "colab": {
          "base_uri": "https://localhost:8080/"
        },
        "id": "QPLP7G5lP9Y3",
        "outputId": "9110b489-622d-4f7a-cefe-d876b8289290"
      },
      "source": [
        "sr4.rename({'a':0, 'c':2}) # for all label -> sr4.index = [...]"
      ],
      "execution_count": 28,
      "outputs": [
        {
          "output_type": "execute_result",
          "data": {
            "text/plain": [
              "0    9\n",
              "b    8\n",
              "2    7\n",
              "d    6\n",
              "dtype: int64"
            ]
          },
          "metadata": {},
          "execution_count": 28
        }
      ]
    },
    {
      "cell_type": "markdown",
      "metadata": {
        "id": "2K17F3KtNrax"
      },
      "source": [
        "```\n",
        ".sort_values()\n",
        ".iteritems()   # ~ enumerate()\n",
        "```"
      ]
    },
    {
      "cell_type": "code",
      "metadata": {
        "colab": {
          "base_uri": "https://localhost:8080/"
        },
        "id": "OAPKy9JBQKGq",
        "outputId": "4f37cffd-eb12-4fee-cc56-51bc3d0289e6"
      },
      "source": [
        "sr4.sort_values()"
      ],
      "execution_count": 29,
      "outputs": [
        {
          "output_type": "execute_result",
          "data": {
            "text/plain": [
              "d    6\n",
              "c    7\n",
              "b    8\n",
              "a    9\n",
              "dtype: int64"
            ]
          },
          "metadata": {},
          "execution_count": 29
        }
      ]
    },
    {
      "cell_type": "code",
      "metadata": {
        "colab": {
          "base_uri": "https://localhost:8080/"
        },
        "id": "7rUhk8qJREB6",
        "outputId": "1fdce553-98c1-4e89-e60d-82febeb39f8d"
      },
      "source": [
        "for i, j in sr4.iteritems():\n",
        "  print('Index: {}, Value: {}'.format(i, j))"
      ],
      "execution_count": 30,
      "outputs": [
        {
          "output_type": "stream",
          "name": "stdout",
          "text": [
            "Index: a, Value: 9\n",
            "Index: b, Value: 8\n",
            "Index: c, Value: 7\n",
            "Index: d, Value: 6\n"
          ]
        }
      ]
    },
    {
      "cell_type": "markdown",
      "metadata": {
        "id": "1fvlVl_FKuYX"
      },
      "source": [
        "### NaN"
      ]
    },
    {
      "cell_type": "markdown",
      "metadata": {
        "id": "F-y_bWGSSz6J"
      },
      "source": [
        "```\n",
        ".dropna()\n",
        ".fillna(value)\n",
        ".hasnans\n",
        "```"
      ]
    },
    {
      "cell_type": "code",
      "metadata": {
        "colab": {
          "base_uri": "https://localhost:8080/"
        },
        "id": "T-IjlVIwSByy",
        "outputId": "8a40affc-311c-45dc-8458-ed6ebe6464df"
      },
      "source": [
        "sr5 = sr4.map({9:1, 8:2})\n",
        "print(sr4, sr5, sep='\\n\\n')"
      ],
      "execution_count": 31,
      "outputs": [
        {
          "output_type": "stream",
          "name": "stdout",
          "text": [
            "a    9\n",
            "b    8\n",
            "c    7\n",
            "d    6\n",
            "dtype: int64\n",
            "\n",
            "a    1.0\n",
            "b    2.0\n",
            "c    NaN\n",
            "d    NaN\n",
            "dtype: float64\n"
          ]
        }
      ]
    },
    {
      "cell_type": "code",
      "metadata": {
        "colab": {
          "base_uri": "https://localhost:8080/"
        },
        "id": "HNDmp2MvTDLz",
        "outputId": "ba23c402-c13c-4747-dee8-9c96ee60a985"
      },
      "source": [
        "sr4.hasnans, sr5.hasnans"
      ],
      "execution_count": 32,
      "outputs": [
        {
          "output_type": "execute_result",
          "data": {
            "text/plain": [
              "(False, True)"
            ]
          },
          "metadata": {},
          "execution_count": 32
        }
      ]
    },
    {
      "cell_type": "code",
      "metadata": {
        "colab": {
          "base_uri": "https://localhost:8080/"
        },
        "id": "q_4TR-MUTTFk",
        "outputId": "5c044f87-b3f9-4647-fddf-206ab4d4ce28"
      },
      "source": [
        "sr6 = sr5.dropna()\n",
        "sr6"
      ],
      "execution_count": 33,
      "outputs": [
        {
          "output_type": "execute_result",
          "data": {
            "text/plain": [
              "a    1.0\n",
              "b    2.0\n",
              "dtype: float64"
            ]
          },
          "metadata": {},
          "execution_count": 33
        }
      ]
    },
    {
      "cell_type": "code",
      "metadata": {
        "colab": {
          "base_uri": "https://localhost:8080/"
        },
        "id": "aPab_d_oTaS0",
        "outputId": "cc21aa6c-054e-4632-e30c-d9eeeeaeef5b"
      },
      "source": [
        "sr7 = sr5.fillna(-1)\n",
        "sr7"
      ],
      "execution_count": 34,
      "outputs": [
        {
          "output_type": "execute_result",
          "data": {
            "text/plain": [
              "a    1.0\n",
              "b    2.0\n",
              "c   -1.0\n",
              "d   -1.0\n",
              "dtype: float64"
            ]
          },
          "metadata": {},
          "execution_count": 34
        }
      ]
    }
  ]
}
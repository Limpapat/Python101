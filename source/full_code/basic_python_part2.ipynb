{
  "nbformat": 4,
  "nbformat_minor": 0,
  "metadata": {
    "colab": {
      "name": "basic_python_part2.ipynb",
      "provenance": [],
      "collapsed_sections": [],
      "toc_visible": true,
      "include_colab_link": true
    },
    "kernelspec": {
      "name": "python3",
      "display_name": "Python 3"
    }
  },
  "cells": [
    {
      "cell_type": "markdown",
      "metadata": {
        "id": "view-in-github",
        "colab_type": "text"
      },
      "source": [
        "<a href=\"https://colab.research.google.com/github/Limpapat/Python101/blob/main/basic_python_part2.ipynb\" target=\"_parent\"><img src=\"https://colab.research.google.com/assets/colab-badge.svg\" alt=\"Open In Colab\"/></a>"
      ]
    },
    {
      "cell_type": "markdown",
      "metadata": {
        "id": "fL5Sv0nIf8nL"
      },
      "source": [
        "# Python 101 : Basic Python Programming [Part 2]\n",
        "by Limpapat Bussaban\n",
        "\n",
        "22/08/2021\n",
        "\n",
        "[datacamp] Cheat sheets http://datacamp-community-prod.s3.amazonaws.com/0eff0330-e87d-4c34-88d5-73e80cb955f2"
      ]
    },
    {
      "cell_type": "code",
      "metadata": {
        "id": "C7OlH1uwLPQY"
      },
      "source": [
        "a, b = 1, \"Python!\"\n",
        "l = [b, a, a - 1, a]\n",
        "t = (0, 1, 2, 3, 4)\n",
        "grade = {\n",
        "    \"A\" : 80,\n",
        "    \"B\" : 70,\n",
        "    \"C\" : 60,\n",
        "    \"D\" : 50\n",
        "}"
      ],
      "execution_count": 1,
      "outputs": []
    },
    {
      "cell_type": "markdown",
      "metadata": {
        "id": "6Ktf3sJeqq6x"
      },
      "source": [
        "## Condition & Loop"
      ]
    },
    {
      "cell_type": "markdown",
      "metadata": {
        "id": "pI897Mvy4yls"
      },
      "source": [
        "### If...else condition"
      ]
    },
    {
      "cell_type": "markdown",
      "metadata": {
        "id": "hnlIr5RjQT9I"
      },
      "source": [
        "```\n",
        "if Boolean-expression:\n",
        "  if_block_statement\n",
        "else:\n",
        "  else_block_statement\n",
        "```"
      ]
    },
    {
      "cell_type": "code",
      "metadata": {
        "id": "o2ASqKBy40vF",
        "colab": {
          "base_uri": "https://localhost:8080/"
        },
        "outputId": "d7f78c84-4285-4b29-ee54-209c101c55ae"
      },
      "source": [
        "if len(t) == 5:\n",
        "  print('length is 5')\n",
        "else:\n",
        "  print('length not equals 5')"
      ],
      "execution_count": 2,
      "outputs": [
        {
          "output_type": "stream",
          "name": "stdout",
          "text": [
            "length is 5\n"
          ]
        }
      ]
    },
    {
      "cell_type": "code",
      "metadata": {
        "id": "C7bVD-2V75P-",
        "colab": {
          "base_uri": "https://localhost:8080/"
        },
        "outputId": "152c4f66-5d48-44d6-e15a-ab56748bbfaa"
      },
      "source": [
        "score = 90\n",
        "if score >= grade[\"A\"]:\n",
        "  print(\"A\")\n",
        "  print(\"Good Job!\")\n",
        "elif score >= grade[\"B+\"]:\n",
        "  print(\"B+\")\n",
        "elif score >= grade[\"B\"]:\n",
        "  print(\"B\")\n",
        "elif score >= grade[\"C\"]:\n",
        "  print(\"C\")\n",
        "elif score >= grade[\"D\"]:\n",
        "  print(\"D\")\n",
        "else:\n",
        "  print(\"F\")"
      ],
      "execution_count": 3,
      "outputs": [
        {
          "output_type": "stream",
          "name": "stdout",
          "text": [
            "A\n",
            "Good Job!\n"
          ]
        }
      ]
    },
    {
      "cell_type": "code",
      "metadata": {
        "colab": {
          "base_uri": "https://localhost:8080/"
        },
        "id": "wVrEMTlrPktW",
        "outputId": "2f35051b-a473-49c5-cea9-c0226d2eee70"
      },
      "source": [
        "# Tip:\n",
        "score = 80\n",
        "if score >= 80:\n",
        "  print('A')\n",
        "if score >= 70:\n",
        "  print('B')\n",
        "else:\n",
        "  print('F')"
      ],
      "execution_count": 4,
      "outputs": [
        {
          "output_type": "stream",
          "name": "stdout",
          "text": [
            "A\n",
            "B\n"
          ]
        }
      ]
    },
    {
      "cell_type": "code",
      "metadata": {
        "colab": {
          "base_uri": "https://localhost:8080/"
        },
        "id": "ovgHmOS1QKMg",
        "outputId": "734b8405-5b04-4566-8a36-76a558868832"
      },
      "source": [
        "# Tip:\n",
        "score = 80\n",
        "if score >= 80:\n",
        "  print('A')\n",
        "elif score >= 70:\n",
        "  print('B')\n",
        "else:\n",
        "  print('F')"
      ],
      "execution_count": 5,
      "outputs": [
        {
          "output_type": "stream",
          "name": "stdout",
          "text": [
            "A\n"
          ]
        }
      ]
    },
    {
      "cell_type": "markdown",
      "metadata": {
        "id": "tWabGOksKwFl"
      },
      "source": [
        "### While loop"
      ]
    },
    {
      "cell_type": "markdown",
      "metadata": {
        "id": "YrNfqrI2L6UI"
      },
      "source": [
        "```\n",
        "while Boolean-expression:\n",
        "  block statement\n",
        "```"
      ]
    },
    {
      "cell_type": "code",
      "metadata": {
        "colab": {
          "base_uri": "https://localhost:8080/"
        },
        "id": "pjoxNEnAMDWK",
        "outputId": "52670ece-4b3b-4229-a5b8-e5e916af6e42"
      },
      "source": [
        "n = 10\n",
        "count = 1\n",
        "factorial = 1\n",
        "while count <= n:\n",
        "  factorial *= count\n",
        "  count += 1\n",
        "\n",
        "print(f'{n}! = {factorial}')"
      ],
      "execution_count": 6,
      "outputs": [
        {
          "output_type": "stream",
          "name": "stdout",
          "text": [
            "10! = 3628800\n"
          ]
        }
      ]
    },
    {
      "cell_type": "markdown",
      "metadata": {
        "id": "qlITntz01Uhm"
      },
      "source": [
        "### For loop"
      ]
    },
    {
      "cell_type": "markdown",
      "metadata": {
        "id": "tV9-ZBd9NXT0"
      },
      "source": [
        "```\n",
        "for iterate_var in sequence:\n",
        "  statement\n",
        "```"
      ]
    },
    {
      "cell_type": "code",
      "metadata": {
        "id": "Iguikec5vq7K",
        "colab": {
          "base_uri": "https://localhost:8080/"
        },
        "outputId": "c36bc78b-9d79-449f-de94-7d50ca44fa55"
      },
      "source": [
        "for item in l:\n",
        "  print(item)"
      ],
      "execution_count": 7,
      "outputs": [
        {
          "output_type": "stream",
          "name": "stdout",
          "text": [
            "Python!\n",
            "1\n",
            "0\n",
            "1\n"
          ]
        }
      ]
    },
    {
      "cell_type": "code",
      "metadata": {
        "id": "lOBC3OJpvzGK",
        "colab": {
          "base_uri": "https://localhost:8080/"
        },
        "outputId": "17433d3e-572a-4bc9-a3d9-3de3fc50cdd7"
      },
      "source": [
        "# List Comprehension\n",
        "[i for i in t]"
      ],
      "execution_count": 8,
      "outputs": [
        {
          "output_type": "execute_result",
          "data": {
            "text/plain": [
              "[0, 1, 2, 3, 4]"
            ]
          },
          "metadata": {},
          "execution_count": 8
        }
      ]
    },
    {
      "cell_type": "code",
      "metadata": {
        "id": "by_zDvsW4RqK",
        "colab": {
          "base_uri": "https://localhost:8080/"
        },
        "outputId": "4c31abe4-e085-4884-a33b-8b213fea4f9a"
      },
      "source": [
        "list(t)"
      ],
      "execution_count": 9,
      "outputs": [
        {
          "output_type": "execute_result",
          "data": {
            "text/plain": [
              "[0, 1, 2, 3, 4]"
            ]
          },
          "metadata": {},
          "execution_count": 9
        }
      ]
    },
    {
      "cell_type": "code",
      "metadata": {
        "id": "jqnhTZOYM9gq",
        "colab": {
          "base_uri": "https://localhost:8080/"
        },
        "outputId": "fc8b77c7-e1b1-4812-d0bc-76691507fab7"
      },
      "source": [
        "[i for i in range(100)]"
      ],
      "execution_count": 10,
      "outputs": [
        {
          "output_type": "execute_result",
          "data": {
            "text/plain": [
              "[0,\n",
              " 1,\n",
              " 2,\n",
              " 3,\n",
              " 4,\n",
              " 5,\n",
              " 6,\n",
              " 7,\n",
              " 8,\n",
              " 9,\n",
              " 10,\n",
              " 11,\n",
              " 12,\n",
              " 13,\n",
              " 14,\n",
              " 15,\n",
              " 16,\n",
              " 17,\n",
              " 18,\n",
              " 19,\n",
              " 20,\n",
              " 21,\n",
              " 22,\n",
              " 23,\n",
              " 24,\n",
              " 25,\n",
              " 26,\n",
              " 27,\n",
              " 28,\n",
              " 29,\n",
              " 30,\n",
              " 31,\n",
              " 32,\n",
              " 33,\n",
              " 34,\n",
              " 35,\n",
              " 36,\n",
              " 37,\n",
              " 38,\n",
              " 39,\n",
              " 40,\n",
              " 41,\n",
              " 42,\n",
              " 43,\n",
              " 44,\n",
              " 45,\n",
              " 46,\n",
              " 47,\n",
              " 48,\n",
              " 49,\n",
              " 50,\n",
              " 51,\n",
              " 52,\n",
              " 53,\n",
              " 54,\n",
              " 55,\n",
              " 56,\n",
              " 57,\n",
              " 58,\n",
              " 59,\n",
              " 60,\n",
              " 61,\n",
              " 62,\n",
              " 63,\n",
              " 64,\n",
              " 65,\n",
              " 66,\n",
              " 67,\n",
              " 68,\n",
              " 69,\n",
              " 70,\n",
              " 71,\n",
              " 72,\n",
              " 73,\n",
              " 74,\n",
              " 75,\n",
              " 76,\n",
              " 77,\n",
              " 78,\n",
              " 79,\n",
              " 80,\n",
              " 81,\n",
              " 82,\n",
              " 83,\n",
              " 84,\n",
              " 85,\n",
              " 86,\n",
              " 87,\n",
              " 88,\n",
              " 89,\n",
              " 90,\n",
              " 91,\n",
              " 92,\n",
              " 93,\n",
              " 94,\n",
              " 95,\n",
              " 96,\n",
              " 97,\n",
              " 98,\n",
              " 99]"
            ]
          },
          "metadata": {},
          "execution_count": 10
        }
      ]
    },
    {
      "cell_type": "markdown",
      "metadata": {
        "id": "9bMW9E_XPHGv"
      },
      "source": [
        "### Loop controller : break, continue & else"
      ]
    },
    {
      "cell_type": "markdown",
      "metadata": {
        "id": "i2JYNgLbSCH1"
      },
      "source": [
        "**break**\n",
        "```\n",
        "while/for loop:\n",
        "  statement inside loop\n",
        "  if condition:\n",
        "    break -----------------|\n",
        "  statement inside loop    |\n",
        "statement outside loop  <--|\n",
        "```"
      ]
    },
    {
      "cell_type": "code",
      "metadata": {
        "colab": {
          "base_uri": "https://localhost:8080/",
          "height": 286
        },
        "id": "5CaRft4umeOF",
        "outputId": "d5af4a87-08f8-4f49-af74-d9b6cb19d4ba"
      },
      "source": [
        "# Simple minimization\n",
        "\n",
        "import matplotlib.pyplot as plt\n",
        "\n",
        "dom = [-1 + i*(0.1) for i in range(0,21)]\n",
        "ran = [i**2 for i in dom]\n",
        "plt.plot(dom, ran, label='y=x**2')\n",
        "plt.legend()\n",
        "plt.show()"
      ],
      "execution_count": 11,
      "outputs": [
        {
          "output_type": "display_data",
          "data": {
            "image/png": "[encoded data removed]",
            "text/plain": [
              "<Figure size 432x288 with 1 Axes>"
            ]
          },
          "metadata": {
            "needs_background": "light"
          }
        }
      ]
    },
    {
      "cell_type": "code",
      "metadata": {
        "colab": {
          "base_uri": "https://localhost:8080/",
          "height": 306
        },
        "id": "G0CMgMKpW2UY",
        "outputId": "a7292f45-5221-4773-c6ff-aa6911d9a8fb"
      },
      "source": [
        "x_init = -1.\n",
        "plt.plot(dom, ran, label='y=x**2')\n",
        "while True:\n",
        "  slope_at_x = 2.*x_init\n",
        "  y = [slope_at_x*(i-x_init)+x_init**2 for i in dom]\n",
        "  plt.plot(dom, y, 'r-')\n",
        "  plt.ylim([-0.1,1.])\n",
        "  plt.scatter(x_init, x_init**2, color='r', marker='o')\n",
        "  if abs(slope_at_x) < 1e-5: #Tip: slope_at_x == 0.\n",
        "    break\n",
        "  x_init += 0.1\n",
        "\n",
        "print(f'solution : ({x_init},{x_init**2})')\n",
        "plt.legend()\n",
        "plt.show()"
      ],
      "execution_count": 12,
      "outputs": [
        {
          "output_type": "stream",
          "name": "stdout",
          "text": [
            "solution : (-1.3877787807814457e-16,1.9259299443872359e-32)\n"
          ]
        },
        {
          "output_type": "display_data",
          "data": {
            "image/png": "[encoded data removed]",
            "text/plain": [
              "<Figure size 432x288 with 1 Axes>"
            ]
          },
          "metadata": {
            "needs_background": "light"
          }
        }
      ]
    },
    {
      "cell_type": "code",
      "metadata": {
        "id": "WMJRHJgBW5PM"
      },
      "source": [
        "?ord"
      ],
      "execution_count": 13,
      "outputs": []
    },
    {
      "cell_type": "code",
      "metadata": {
        "id": "2j7e3u-aloNJ"
      },
      "source": [
        "?chr"
      ],
      "execution_count": 14,
      "outputs": []
    },
    {
      "cell_type": "code",
      "metadata": {
        "id": "_j_H3agkXdOa",
        "colab": {
          "base_uri": "https://localhost:8080/"
        },
        "outputId": "b49aa127-f04b-4cdc-d795-1be4c13f5168"
      },
      "source": [
        "\n",
        "english_alphabet_lowercase = 'abcdefghijklmnopqrstuvwxyz'\n",
        "english_alphabet_uppercase = 'ABCDEFGHIJKLMNOPQRSTUVWXYZ'\n",
        "ascii_uppercase = [ord(t) for t in english_alphabet_uppercase]\n",
        "ascii_lowercase = [ord(t) for t in english_alphabet_lowercase]\n",
        "print(ascii_uppercase, ascii_lowercase, sep='\\n\\n')"
      ],
      "execution_count": 15,
      "outputs": [
        {
          "output_type": "stream",
          "name": "stdout",
          "text": [
            "[65, 66, 67, 68, 69, 70, 71, 72, 73, 74, 75, 76, 77, 78, 79, 80, 81, 82, 83, 84, 85, 86, 87, 88, 89, 90]\n",
            "\n",
            "[97, 98, 99, 100, 101, 102, 103, 104, 105, 106, 107, 108, 109, 110, 111, 112, 113, 114, 115, 116, 117, 118, 119, 120, 121, 122]\n"
          ]
        }
      ]
    },
    {
      "cell_type": "code",
      "metadata": {
        "colab": {
          "base_uri": "https://localhost:8080/"
        },
        "id": "ILB2TCzsPM_j",
        "outputId": "ceb8e3f9-762d-41aa-9307-e4400db140cc"
      },
      "source": [
        "# Word Guess\n",
        "\n",
        "target = 'ANT' # input('Enter your word : ')\n",
        "target = [ord(t) for t in target]\n",
        "code_size = len(target)\n",
        "data = range(65, 91) # ASCII CODE\n",
        "idx_data = [0 for i in range(code_size)]\n",
        "iter = 1\n",
        "while True:\n",
        "  letter_idx = code_size - 1\n",
        "  word = [data[i] for i in idx_data]\n",
        "  fitness = sum([word[i]==target[i] for i in range(code_size)])\n",
        "  print('Iteration: {}\\t predicted_word: {}'.format(iter, ''.join([chr(w) for w in word])))\n",
        "  if fitness == code_size or letter_idx == -1:\n",
        "    break\n",
        "  iter += 1\n",
        "  idx_data[-1] += 1\n",
        "  while idx_data[letter_idx] > len(data)-1:\n",
        "    idx_data[letter_idx] = 0\n",
        "    letter_idx -= 1\n",
        "    if letter_idx == 0:\n",
        "      break\n",
        "    idx_data[letter_idx] += 1"
      ],
      "execution_count": 16,
      "outputs": [
        {
          "output_type": "stream",
          "name": "stdout",
          "text": [
            "Iteration: 1\t predicted_word: AAA\n",
            "Iteration: 2\t predicted_word: AAB\n",
            "Iteration: 3\t predicted_word: AAC\n",
            "Iteration: 4\t predicted_word: AAD\n",
            "Iteration: 5\t predicted_word: AAE\n",
            "Iteration: 6\t predicted_word: AAF\n",
            "Iteration: 7\t predicted_word: AAG\n",
            "Iteration: 8\t predicted_word: AAH\n",
            "Iteration: 9\t predicted_word: AAI\n",
            "Iteration: 10\t predicted_word: AAJ\n",
            "Iteration: 11\t predicted_word: AAK\n",
            "Iteration: 12\t predicted_word: AAL\n",
            "Iteration: 13\t predicted_word: AAM\n",
            "Iteration: 14\t predicted_word: AAN\n",
            "Iteration: 15\t predicted_word: AAO\n",
            "Iteration: 16\t predicted_word: AAP\n",
            "Iteration: 17\t predicted_word: AAQ\n",
            "Iteration: 18\t predicted_word: AAR\n",
            "Iteration: 19\t predicted_word: AAS\n",
            "Iteration: 20\t predicted_word: AAT\n",
            "Iteration: 21\t predicted_word: AAU\n",
            "Iteration: 22\t predicted_word: AAV\n",
            "Iteration: 23\t predicted_word: AAW\n",
            "Iteration: 24\t predicted_word: AAX\n",
            "Iteration: 25\t predicted_word: AAY\n",
            "Iteration: 26\t predicted_word: AAZ\n",
            "Iteration: 27\t predicted_word: ABA\n",
            "Iteration: 28\t predicted_word: ABB\n",
            "Iteration: 29\t predicted_word: ABC\n",
            "Iteration: 30\t predicted_word: ABD\n",
            "Iteration: 31\t predicted_word: ABE\n",
            "Iteration: 32\t predicted_word: ABF\n",
            "Iteration: 33\t predicted_word: ABG\n",
            "Iteration: 34\t predicted_word: ABH\n",
            "Iteration: 35\t predicted_word: ABI\n",
            "Iteration: 36\t predicted_word: ABJ\n",
            "Iteration: 37\t predicted_word: ABK\n",
            "Iteration: 38\t predicted_word: ABL\n",
            "Iteration: 39\t predicted_word: ABM\n",
            "Iteration: 40\t predicted_word: ABN\n",
            "Iteration: 41\t predicted_word: ABO\n",
            "Iteration: 42\t predicted_word: ABP\n",
            "Iteration: 43\t predicted_word: ABQ\n",
            "Iteration: 44\t predicted_word: ABR\n",
            "Iteration: 45\t predicted_word: ABS\n",
            "Iteration: 46\t predicted_word: ABT\n",
            "Iteration: 47\t predicted_word: ABU\n",
            "Iteration: 48\t predicted_word: ABV\n",
            "Iteration: 49\t predicted_word: ABW\n",
            "Iteration: 50\t predicted_word: ABX\n",
            "Iteration: 51\t predicted_word: ABY\n",
            "Iteration: 52\t predicted_word: ABZ\n",
            "Iteration: 53\t predicted_word: ACA\n",
            "Iteration: 54\t predicted_word: ACB\n",
            "Iteration: 55\t predicted_word: ACC\n",
            "Iteration: 56\t predicted_word: ACD\n",
            "Iteration: 57\t predicted_word: ACE\n",
            "Iteration: 58\t predicted_word: ACF\n",
            "Iteration: 59\t predicted_word: ACG\n",
            "Iteration: 60\t predicted_word: ACH\n",
            "Iteration: 61\t predicted_word: ACI\n",
            "Iteration: 62\t predicted_word: ACJ\n",
            "Iteration: 63\t predicted_word: ACK\n",
            "Iteration: 64\t predicted_word: ACL\n",
            "Iteration: 65\t predicted_word: ACM\n",
            "Iteration: 66\t predicted_word: ACN\n",
            "Iteration: 67\t predicted_word: ACO\n",
            "Iteration: 68\t predicted_word: ACP\n",
            "Iteration: 69\t predicted_word: ACQ\n",
            "Iteration: 70\t predicted_word: ACR\n",
            "Iteration: 71\t predicted_word: ACS\n",
            "Iteration: 72\t predicted_word: ACT\n",
            "Iteration: 73\t predicted_word: ACU\n",
            "Iteration: 74\t predicted_word: ACV\n",
            "Iteration: 75\t predicted_word: ACW\n",
            "Iteration: 76\t predicted_word: ACX\n",
            "Iteration: 77\t predicted_word: ACY\n",
            "Iteration: 78\t predicted_word: ACZ\n",
            "Iteration: 79\t predicted_word: ADA\n",
            "Iteration: 80\t predicted_word: ADB\n",
            "Iteration: 81\t predicted_word: ADC\n",
            "Iteration: 82\t predicted_word: ADD\n",
            "Iteration: 83\t predicted_word: ADE\n",
            "Iteration: 84\t predicted_word: ADF\n",
            "Iteration: 85\t predicted_word: ADG\n",
            "Iteration: 86\t predicted_word: ADH\n",
            "Iteration: 87\t predicted_word: ADI\n",
            "Iteration: 88\t predicted_word: ADJ\n",
            "Iteration: 89\t predicted_word: ADK\n",
            "Iteration: 90\t predicted_word: ADL\n",
            "Iteration: 91\t predicted_word: ADM\n",
            "Iteration: 92\t predicted_word: ADN\n",
            "Iteration: 93\t predicted_word: ADO\n",
            "Iteration: 94\t predicted_word: ADP\n",
            "Iteration: 95\t predicted_word: ADQ\n",
            "Iteration: 96\t predicted_word: ADR\n",
            "Iteration: 97\t predicted_word: ADS\n",
            "Iteration: 98\t predicted_word: ADT\n",
            "Iteration: 99\t predicted_word: ADU\n",
            "Iteration: 100\t predicted_word: ADV\n",
            "Iteration: 101\t predicted_word: ADW\n",
            "Iteration: 102\t predicted_word: ADX\n",
            "Iteration: 103\t predicted_word: ADY\n",
            "Iteration: 104\t predicted_word: ADZ\n",
            "Iteration: 105\t predicted_word: AEA\n",
            "Iteration: 106\t predicted_word: AEB\n",
            "Iteration: 107\t predicted_word: AEC\n",
            "Iteration: 108\t predicted_word: AED\n",
            "Iteration: 109\t predicted_word: AEE\n",
            "Iteration: 110\t predicted_word: AEF\n",
            "Iteration: 111\t predicted_word: AEG\n",
            "Iteration: 112\t predicted_word: AEH\n",
            "Iteration: 113\t predicted_word: AEI\n",
            "Iteration: 114\t predicted_word: AEJ\n",
            "Iteration: 115\t predicted_word: AEK\n",
            "Iteration: 116\t predicted_word: AEL\n",
            "Iteration: 117\t predicted_word: AEM\n",
            "Iteration: 118\t predicted_word: AEN\n",
            "Iteration: 119\t predicted_word: AEO\n",
            "Iteration: 120\t predicted_word: AEP\n",
            "Iteration: 121\t predicted_word: AEQ\n",
            "Iteration: 122\t predicted_word: AER\n",
            "Iteration: 123\t predicted_word: AES\n",
            "Iteration: 124\t predicted_word: AET\n",
            "Iteration: 125\t predicted_word: AEU\n",
            "Iteration: 126\t predicted_word: AEV\n",
            "Iteration: 127\t predicted_word: AEW\n",
            "Iteration: 128\t predicted_word: AEX\n",
            "Iteration: 129\t predicted_word: AEY\n",
            "Iteration: 130\t predicted_word: AEZ\n",
            "Iteration: 131\t predicted_word: AFA\n",
            "Iteration: 132\t predicted_word: AFB\n",
            "Iteration: 133\t predicted_word: AFC\n",
            "Iteration: 134\t predicted_word: AFD\n",
            "Iteration: 135\t predicted_word: AFE\n",
            "Iteration: 136\t predicted_word: AFF\n",
            "Iteration: 137\t predicted_word: AFG\n",
            "Iteration: 138\t predicted_word: AFH\n",
            "Iteration: 139\t predicted_word: AFI\n",
            "Iteration: 140\t predicted_word: AFJ\n",
            "Iteration: 141\t predicted_word: AFK\n",
            "Iteration: 142\t predicted_word: AFL\n",
            "Iteration: 143\t predicted_word: AFM\n",
            "Iteration: 144\t predicted_word: AFN\n",
            "Iteration: 145\t predicted_word: AFO\n",
            "Iteration: 146\t predicted_word: AFP\n",
            "Iteration: 147\t predicted_word: AFQ\n",
            "Iteration: 148\t predicted_word: AFR\n",
            "Iteration: 149\t predicted_word: AFS\n",
            "Iteration: 150\t predicted_word: AFT\n",
            "Iteration: 151\t predicted_word: AFU\n",
            "Iteration: 152\t predicted_word: AFV\n",
            "Iteration: 153\t predicted_word: AFW\n",
            "Iteration: 154\t predicted_word: AFX\n",
            "Iteration: 155\t predicted_word: AFY\n",
            "Iteration: 156\t predicted_word: AFZ\n",
            "Iteration: 157\t predicted_word: AGA\n",
            "Iteration: 158\t predicted_word: AGB\n",
            "Iteration: 159\t predicted_word: AGC\n",
            "Iteration: 160\t predicted_word: AGD\n",
            "Iteration: 161\t predicted_word: AGE\n",
            "Iteration: 162\t predicted_word: AGF\n",
            "Iteration: 163\t predicted_word: AGG\n",
            "Iteration: 164\t predicted_word: AGH\n",
            "Iteration: 165\t predicted_word: AGI\n",
            "Iteration: 166\t predicted_word: AGJ\n",
            "Iteration: 167\t predicted_word: AGK\n",
            "Iteration: 168\t predicted_word: AGL\n",
            "Iteration: 169\t predicted_word: AGM\n",
            "Iteration: 170\t predicted_word: AGN\n",
            "Iteration: 171\t predicted_word: AGO\n",
            "Iteration: 172\t predicted_word: AGP\n",
            "Iteration: 173\t predicted_word: AGQ\n",
            "Iteration: 174\t predicted_word: AGR\n",
            "Iteration: 175\t predicted_word: AGS\n",
            "Iteration: 176\t predicted_word: AGT\n",
            "Iteration: 177\t predicted_word: AGU\n",
            "Iteration: 178\t predicted_word: AGV\n",
            "Iteration: 179\t predicted_word: AGW\n",
            "Iteration: 180\t predicted_word: AGX\n",
            "Iteration: 181\t predicted_word: AGY\n",
            "Iteration: 182\t predicted_word: AGZ\n",
            "Iteration: 183\t predicted_word: AHA\n",
            "Iteration: 184\t predicted_word: AHB\n",
            "Iteration: 185\t predicted_word: AHC\n",
            "Iteration: 186\t predicted_word: AHD\n",
            "Iteration: 187\t predicted_word: AHE\n",
            "Iteration: 188\t predicted_word: AHF\n",
            "Iteration: 189\t predicted_word: AHG\n",
            "Iteration: 190\t predicted_word: AHH\n",
            "Iteration: 191\t predicted_word: AHI\n",
            "Iteration: 192\t predicted_word: AHJ\n",
            "Iteration: 193\t predicted_word: AHK\n",
            "Iteration: 194\t predicted_word: AHL\n",
            "Iteration: 195\t predicted_word: AHM\n",
            "Iteration: 196\t predicted_word: AHN\n",
            "Iteration: 197\t predicted_word: AHO\n",
            "Iteration: 198\t predicted_word: AHP\n",
            "Iteration: 199\t predicted_word: AHQ\n",
            "Iteration: 200\t predicted_word: AHR\n",
            "Iteration: 201\t predicted_word: AHS\n",
            "Iteration: 202\t predicted_word: AHT\n",
            "Iteration: 203\t predicted_word: AHU\n",
            "Iteration: 204\t predicted_word: AHV\n",
            "Iteration: 205\t predicted_word: AHW\n",
            "Iteration: 206\t predicted_word: AHX\n",
            "Iteration: 207\t predicted_word: AHY\n",
            "Iteration: 208\t predicted_word: AHZ\n",
            "Iteration: 209\t predicted_word: AIA\n",
            "Iteration: 210\t predicted_word: AIB\n",
            "Iteration: 211\t predicted_word: AIC\n",
            "Iteration: 212\t predicted_word: AID\n",
            "Iteration: 213\t predicted_word: AIE\n",
            "Iteration: 214\t predicted_word: AIF\n",
            "Iteration: 215\t predicted_word: AIG\n",
            "Iteration: 216\t predicted_word: AIH\n",
            "Iteration: 217\t predicted_word: AII\n",
            "Iteration: 218\t predicted_word: AIJ\n",
            "Iteration: 219\t predicted_word: AIK\n",
            "Iteration: 220\t predicted_word: AIL\n",
            "Iteration: 221\t predicted_word: AIM\n",
            "Iteration: 222\t predicted_word: AIN\n",
            "Iteration: 223\t predicted_word: AIO\n",
            "Iteration: 224\t predicted_word: AIP\n",
            "Iteration: 225\t predicted_word: AIQ\n",
            "Iteration: 226\t predicted_word: AIR\n",
            "Iteration: 227\t predicted_word: AIS\n",
            "Iteration: 228\t predicted_word: AIT\n",
            "Iteration: 229\t predicted_word: AIU\n",
            "Iteration: 230\t predicted_word: AIV\n",
            "Iteration: 231\t predicted_word: AIW\n",
            "Iteration: 232\t predicted_word: AIX\n",
            "Iteration: 233\t predicted_word: AIY\n",
            "Iteration: 234\t predicted_word: AIZ\n",
            "Iteration: 235\t predicted_word: AJA\n",
            "Iteration: 236\t predicted_word: AJB\n",
            "Iteration: 237\t predicted_word: AJC\n",
            "Iteration: 238\t predicted_word: AJD\n",
            "Iteration: 239\t predicted_word: AJE\n",
            "Iteration: 240\t predicted_word: AJF\n",
            "Iteration: 241\t predicted_word: AJG\n",
            "Iteration: 242\t predicted_word: AJH\n",
            "Iteration: 243\t predicted_word: AJI\n",
            "Iteration: 244\t predicted_word: AJJ\n",
            "Iteration: 245\t predicted_word: AJK\n",
            "Iteration: 246\t predicted_word: AJL\n",
            "Iteration: 247\t predicted_word: AJM\n",
            "Iteration: 248\t predicted_word: AJN\n",
            "Iteration: 249\t predicted_word: AJO\n",
            "Iteration: 250\t predicted_word: AJP\n",
            "Iteration: 251\t predicted_word: AJQ\n",
            "Iteration: 252\t predicted_word: AJR\n",
            "Iteration: 253\t predicted_word: AJS\n",
            "Iteration: 254\t predicted_word: AJT\n",
            "Iteration: 255\t predicted_word: AJU\n",
            "Iteration: 256\t predicted_word: AJV\n",
            "Iteration: 257\t predicted_word: AJW\n",
            "Iteration: 258\t predicted_word: AJX\n",
            "Iteration: 259\t predicted_word: AJY\n",
            "Iteration: 260\t predicted_word: AJZ\n",
            "Iteration: 261\t predicted_word: AKA\n",
            "Iteration: 262\t predicted_word: AKB\n",
            "Iteration: 263\t predicted_word: AKC\n",
            "Iteration: 264\t predicted_word: AKD\n",
            "Iteration: 265\t predicted_word: AKE\n",
            "Iteration: 266\t predicted_word: AKF\n",
            "Iteration: 267\t predicted_word: AKG\n",
            "Iteration: 268\t predicted_word: AKH\n",
            "Iteration: 269\t predicted_word: AKI\n",
            "Iteration: 270\t predicted_word: AKJ\n",
            "Iteration: 271\t predicted_word: AKK\n",
            "Iteration: 272\t predicted_word: AKL\n",
            "Iteration: 273\t predicted_word: AKM\n",
            "Iteration: 274\t predicted_word: AKN\n",
            "Iteration: 275\t predicted_word: AKO\n",
            "Iteration: 276\t predicted_word: AKP\n",
            "Iteration: 277\t predicted_word: AKQ\n",
            "Iteration: 278\t predicted_word: AKR\n",
            "Iteration: 279\t predicted_word: AKS\n",
            "Iteration: 280\t predicted_word: AKT\n",
            "Iteration: 281\t predicted_word: AKU\n",
            "Iteration: 282\t predicted_word: AKV\n",
            "Iteration: 283\t predicted_word: AKW\n",
            "Iteration: 284\t predicted_word: AKX\n",
            "Iteration: 285\t predicted_word: AKY\n",
            "Iteration: 286\t predicted_word: AKZ\n",
            "Iteration: 287\t predicted_word: ALA\n",
            "Iteration: 288\t predicted_word: ALB\n",
            "Iteration: 289\t predicted_word: ALC\n",
            "Iteration: 290\t predicted_word: ALD\n",
            "Iteration: 291\t predicted_word: ALE\n",
            "Iteration: 292\t predicted_word: ALF\n",
            "Iteration: 293\t predicted_word: ALG\n",
            "Iteration: 294\t predicted_word: ALH\n",
            "Iteration: 295\t predicted_word: ALI\n",
            "Iteration: 296\t predicted_word: ALJ\n",
            "Iteration: 297\t predicted_word: ALK\n",
            "Iteration: 298\t predicted_word: ALL\n",
            "Iteration: 299\t predicted_word: ALM\n",
            "Iteration: 300\t predicted_word: ALN\n",
            "Iteration: 301\t predicted_word: ALO\n",
            "Iteration: 302\t predicted_word: ALP\n",
            "Iteration: 303\t predicted_word: ALQ\n",
            "Iteration: 304\t predicted_word: ALR\n",
            "Iteration: 305\t predicted_word: ALS\n",
            "Iteration: 306\t predicted_word: ALT\n",
            "Iteration: 307\t predicted_word: ALU\n",
            "Iteration: 308\t predicted_word: ALV\n",
            "Iteration: 309\t predicted_word: ALW\n",
            "Iteration: 310\t predicted_word: ALX\n",
            "Iteration: 311\t predicted_word: ALY\n",
            "Iteration: 312\t predicted_word: ALZ\n",
            "Iteration: 313\t predicted_word: AMA\n",
            "Iteration: 314\t predicted_word: AMB\n",
            "Iteration: 315\t predicted_word: AMC\n",
            "Iteration: 316\t predicted_word: AMD\n",
            "Iteration: 317\t predicted_word: AME\n",
            "Iteration: 318\t predicted_word: AMF\n",
            "Iteration: 319\t predicted_word: AMG\n",
            "Iteration: 320\t predicted_word: AMH\n",
            "Iteration: 321\t predicted_word: AMI\n",
            "Iteration: 322\t predicted_word: AMJ\n",
            "Iteration: 323\t predicted_word: AMK\n",
            "Iteration: 324\t predicted_word: AML\n",
            "Iteration: 325\t predicted_word: AMM\n",
            "Iteration: 326\t predicted_word: AMN\n",
            "Iteration: 327\t predicted_word: AMO\n",
            "Iteration: 328\t predicted_word: AMP\n",
            "Iteration: 329\t predicted_word: AMQ\n",
            "Iteration: 330\t predicted_word: AMR\n",
            "Iteration: 331\t predicted_word: AMS\n",
            "Iteration: 332\t predicted_word: AMT\n",
            "Iteration: 333\t predicted_word: AMU\n",
            "Iteration: 334\t predicted_word: AMV\n",
            "Iteration: 335\t predicted_word: AMW\n",
            "Iteration: 336\t predicted_word: AMX\n",
            "Iteration: 337\t predicted_word: AMY\n",
            "Iteration: 338\t predicted_word: AMZ\n",
            "Iteration: 339\t predicted_word: ANA\n",
            "Iteration: 340\t predicted_word: ANB\n",
            "Iteration: 341\t predicted_word: ANC\n",
            "Iteration: 342\t predicted_word: AND\n",
            "Iteration: 343\t predicted_word: ANE\n",
            "Iteration: 344\t predicted_word: ANF\n",
            "Iteration: 345\t predicted_word: ANG\n",
            "Iteration: 346\t predicted_word: ANH\n",
            "Iteration: 347\t predicted_word: ANI\n",
            "Iteration: 348\t predicted_word: ANJ\n",
            "Iteration: 349\t predicted_word: ANK\n",
            "Iteration: 350\t predicted_word: ANL\n",
            "Iteration: 351\t predicted_word: ANM\n",
            "Iteration: 352\t predicted_word: ANN\n",
            "Iteration: 353\t predicted_word: ANO\n",
            "Iteration: 354\t predicted_word: ANP\n",
            "Iteration: 355\t predicted_word: ANQ\n",
            "Iteration: 356\t predicted_word: ANR\n",
            "Iteration: 357\t predicted_word: ANS\n",
            "Iteration: 358\t predicted_word: ANT\n"
          ]
        }
      ]
    },
    {
      "cell_type": "markdown",
      "metadata": {
        "id": "ortjDp4PS1oZ"
      },
      "source": [
        "**continue**\n",
        "```\n",
        "while/for loop:\n",
        "  statement inside loop <--|\n",
        "  if condition:            |\n",
        "    continue --------------|\n",
        "  statement inside loop\n",
        "statement outside loop\n",
        "```"
      ]
    },
    {
      "cell_type": "code",
      "metadata": {
        "id": "HCRi2-W7TsJ9",
        "colab": {
          "base_uri": "https://localhost:8080/"
        },
        "outputId": "9f1a2fb6-f766-4472-bc33-f2089724e924"
      },
      "source": [
        "# Find factors of given number\n",
        "\n",
        "number = int(input('Input your number : '))\n",
        "factors, nonfactors = [], []\n",
        "for n in range(1,number+1):\n",
        "  if number%n == 0:\n",
        "    factors.append(n)\n",
        "    continue\n",
        "  nonfactors.append(n)\n",
        "\n",
        "print(f'Factors of {number} are {str(factors)[1:-1]}.')\n",
        "print(f'{str(nonfactors)[1:-1]} are not factor of {number}.')"
      ],
      "execution_count": 17,
      "outputs": [
        {
          "output_type": "stream",
          "name": "stdout",
          "text": [
            "Input your number : 10\n",
            "Factors of 10 are 1, 2, 5, 10.\n",
            "3, 4, 6, 7, 8, 9 are not factor of 10.\n"
          ]
        }
      ]
    },
    {
      "cell_type": "markdown",
      "metadata": {
        "id": "EpyreYR8Tt-0"
      },
      "source": [
        "**else**\n",
        "```\n",
        "while/for loop:\n",
        "  statement\n",
        "  if condition: break\n",
        "  if condition: continue\n",
        "else:\n",
        "  statement\n",
        "statement outside loop\n",
        "```"
      ]
    },
    {
      "cell_type": "code",
      "metadata": {
        "colab": {
          "base_uri": "https://localhost:8080/"
        },
        "id": "vK1SwOlfnaEs",
        "outputId": "3dcfcf28-70ca-4b7d-ff09-6b244f264964"
      },
      "source": [
        "# Find lucky number\n",
        "number = input('Enter your number : ')\n",
        "for n in number:\n",
        "  if n == '7':\n",
        "    print(f'your number {number} is lucky number!')\n",
        "    break\n",
        "else:\n",
        "  print('Not found lucky number!')"
      ],
      "execution_count": 18,
      "outputs": [
        {
          "output_type": "stream",
          "name": "stdout",
          "text": [
            "Enter your number : 123456789\n",
            "your number 123456789 is lucky number!\n"
          ]
        }
      ]
    },
    {
      "cell_type": "code",
      "metadata": {
        "id": "LagxmAhNjUuZ"
      },
      "source": [
        "# Assignment : Find prime number in range(1,input_number) by using the sieve of Eratosthenes algorithm"
      ],
      "execution_count": 19,
      "outputs": []
    },
    {
      "cell_type": "markdown",
      "metadata": {
        "id": "Xngkc9Ug-Yb6"
      },
      "source": [
        "## Working with Files"
      ]
    },
    {
      "cell_type": "markdown",
      "metadata": {
        "id": "D4XDOh8E-n5u"
      },
      "source": [
        "### Write file"
      ]
    },
    {
      "cell_type": "code",
      "metadata": {
        "id": "0Yejt2B2-6aR"
      },
      "source": [
        "file = open('output.csv', 'w')\n",
        "file.write(\"date,item,price\\n\")\n",
        "file.write(\"2020-02-07,Milk,26.5\\n\")\n",
        "file.write(\"2020-02-08,Water,7\\n\")\n",
        "file.close()"
      ],
      "execution_count": 20,
      "outputs": []
    },
    {
      "cell_type": "code",
      "metadata": {
        "id": "y_Rn9N8I_Gik"
      },
      "source": [
        "header = (\"date\", \"item\", \"price\")\n",
        "content = [\n",
        "    (\"2020-02-07\", \"Milk\", \"26.5\"),\n",
        "    (\"2020-02-08\", \"Water\", \"7\"),\n",
        "    (\"2020-02-08\", \"Mask\", \"20\"),\n",
        "    (\"2020-02-08\", \"Lays\", \"10\"),\n",
        "    (\"2020-02-08\", \"Rice\", \"6\")\n",
        "]\n",
        "\n",
        "file = open('products.csv', 'w')\n",
        "file.write(\",\".join(header) + \"\\n\")\n",
        "\n",
        "for row in content:\n",
        "  file.write(\",\".join(row) + \"\\n\")\n",
        "\n",
        "file.close()"
      ],
      "execution_count": 21,
      "outputs": []
    },
    {
      "cell_type": "markdown",
      "metadata": {
        "id": "MQnwMZNj-nMI"
      },
      "source": [
        "### Read file"
      ]
    },
    {
      "cell_type": "code",
      "metadata": {
        "id": "K29D1lQy-7Hu",
        "colab": {
          "base_uri": "https://localhost:8080/"
        },
        "outputId": "e6e561d8-3431-4abd-ab01-660e0e1d471b"
      },
      "source": [
        "with open(\"products.csv\", \"r\") as f:\n",
        "  product = f.readlines()\n",
        "\n",
        "product"
      ],
      "execution_count": 22,
      "outputs": [
        {
          "output_type": "execute_result",
          "data": {
            "text/plain": [
              "['date,item,price\\n',\n",
              " '2020-02-07,Milk,26.5\\n',\n",
              " '2020-02-08,Water,7\\n',\n",
              " '2020-02-08,Mask,20\\n',\n",
              " '2020-02-08,Lays,10\\n',\n",
              " '2020-02-08,Rice,6\\n']"
            ]
          },
          "metadata": {},
          "execution_count": 22
        }
      ]
    },
    {
      "cell_type": "markdown",
      "metadata": {
        "id": "VxYEPVdK-t30"
      },
      "source": [
        "### Use Pandas to Read/Write file"
      ]
    },
    {
      "cell_type": "code",
      "metadata": {
        "id": "bo1L_B0_-70m",
        "colab": {
          "base_uri": "https://localhost:8080/",
          "height": 221
        },
        "outputId": "516c3d3a-ed5e-4d1e-e7d2-ba5f6e2a4fce"
      },
      "source": [
        "import pandas as pd\n",
        "\n",
        "products = pd.read_csv(\"products.csv\")\n",
        "products"
      ],
      "execution_count": 23,
      "outputs": [
        {
          "output_type": "execute_result",
          "data": {
            "text/html": [
              "<div>\n",
              "<style scoped>\n",
              "    .dataframe tbody tr th:only-of-type {\n",
              "        vertical-align: middle;\n",
              "    }\n",
              "\n",
              "    .dataframe tbody tr th {\n",
              "        vertical-align: top;\n",
              "    }\n",
              "\n",
              "    .dataframe thead th {\n",
              "        text-align: right;\n",
              "    }\n",
              "</style>\n",
              "<table border=\"1\" class=\"dataframe\">\n",
              "  <thead>\n",
              "    <tr style=\"text-align: right;\">\n",
              "      <th></th>\n",
              "      <th>date</th>\n",
              "      <th>item</th>\n",
              "      <th>price</th>\n",
              "    </tr>\n",
              "  </thead>\n",
              "  <tbody>\n",
              "    <tr>\n",
              "      <th>0</th>\n",
              "      <td>2020-02-07</td>\n",
              "      <td>Milk</td>\n",
              "      <td>26.5</td>\n",
              "    </tr>\n",
              "    <tr>\n",
              "      <th>1</th>\n",
              "      <td>2020-02-08</td>\n",
              "      <td>Water</td>\n",
              "      <td>7.0</td>\n",
              "    </tr>\n",
              "    <tr>\n",
              "      <th>2</th>\n",
              "      <td>2020-02-08</td>\n",
              "      <td>Mask</td>\n",
              "      <td>20.0</td>\n",
              "    </tr>\n",
              "    <tr>\n",
              "      <th>3</th>\n",
              "      <td>2020-02-08</td>\n",
              "      <td>Lays</td>\n",
              "      <td>10.0</td>\n",
              "    </tr>\n",
              "    <tr>\n",
              "      <th>4</th>\n",
              "      <td>2020-02-08</td>\n",
              "      <td>Rice</td>\n",
              "      <td>6.0</td>\n",
              "    </tr>\n",
              "  </tbody>\n",
              "</table>\n",
              "</div>"
            ],
            "text/plain": [
              "         date   item  price\n",
              "0  2020-02-07   Milk   26.5\n",
              "1  2020-02-08  Water    7.0\n",
              "2  2020-02-08   Mask   20.0\n",
              "3  2020-02-08   Lays   10.0\n",
              "4  2020-02-08   Rice    6.0"
            ]
          },
          "metadata": {},
          "execution_count": 23
        }
      ]
    },
    {
      "cell_type": "code",
      "metadata": {
        "id": "LNsQqU-l_RjV",
        "colab": {
          "base_uri": "https://localhost:8080/"
        },
        "outputId": "b28c4508-25e9-447a-b5e9-ad3de6219f52"
      },
      "source": [
        "type(products)"
      ],
      "execution_count": 24,
      "outputs": [
        {
          "output_type": "execute_result",
          "data": {
            "text/plain": [
              "pandas.core.frame.DataFrame"
            ]
          },
          "metadata": {},
          "execution_count": 24
        }
      ]
    },
    {
      "cell_type": "code",
      "metadata": {
        "id": "QA0ddnbm_V9Y",
        "colab": {
          "base_uri": "https://localhost:8080/",
          "height": 221
        },
        "outputId": "0b9dcd3d-3fe8-4540-e63e-5e8f22a04ffe"
      },
      "source": [
        "products.to_csv(\"new_products.csv\")\n",
        "products"
      ],
      "execution_count": 25,
      "outputs": [
        {
          "output_type": "execute_result",
          "data": {
            "text/html": [
              "<div>\n",
              "<style scoped>\n",
              "    .dataframe tbody tr th:only-of-type {\n",
              "        vertical-align: middle;\n",
              "    }\n",
              "\n",
              "    .dataframe tbody tr th {\n",
              "        vertical-align: top;\n",
              "    }\n",
              "\n",
              "    .dataframe thead th {\n",
              "        text-align: right;\n",
              "    }\n",
              "</style>\n",
              "<table border=\"1\" class=\"dataframe\">\n",
              "  <thead>\n",
              "    <tr style=\"text-align: right;\">\n",
              "      <th></th>\n",
              "      <th>date</th>\n",
              "      <th>item</th>\n",
              "      <th>price</th>\n",
              "    </tr>\n",
              "  </thead>\n",
              "  <tbody>\n",
              "    <tr>\n",
              "      <th>0</th>\n",
              "      <td>2020-02-07</td>\n",
              "      <td>Milk</td>\n",
              "      <td>26.5</td>\n",
              "    </tr>\n",
              "    <tr>\n",
              "      <th>1</th>\n",
              "      <td>2020-02-08</td>\n",
              "      <td>Water</td>\n",
              "      <td>7.0</td>\n",
              "    </tr>\n",
              "    <tr>\n",
              "      <th>2</th>\n",
              "      <td>2020-02-08</td>\n",
              "      <td>Mask</td>\n",
              "      <td>20.0</td>\n",
              "    </tr>\n",
              "    <tr>\n",
              "      <th>3</th>\n",
              "      <td>2020-02-08</td>\n",
              "      <td>Lays</td>\n",
              "      <td>10.0</td>\n",
              "    </tr>\n",
              "    <tr>\n",
              "      <th>4</th>\n",
              "      <td>2020-02-08</td>\n",
              "      <td>Rice</td>\n",
              "      <td>6.0</td>\n",
              "    </tr>\n",
              "  </tbody>\n",
              "</table>\n",
              "</div>"
            ],
            "text/plain": [
              "         date   item  price\n",
              "0  2020-02-07   Milk   26.5\n",
              "1  2020-02-08  Water    7.0\n",
              "2  2020-02-08   Mask   20.0\n",
              "3  2020-02-08   Lays   10.0\n",
              "4  2020-02-08   Rice    6.0"
            ]
          },
          "metadata": {},
          "execution_count": 25
        }
      ]
    },
    {
      "cell_type": "markdown",
      "metadata": {
        "id": "ZH7k7_5hESCa"
      },
      "source": [
        "### Tips : JSON in Python\n",
        "> JSON is mainly used to convert the python dictionary above into a JSON string that can be written into a file.\n",
        "\n",
        "> JSON is MAGIC!"
      ]
    },
    {
      "cell_type": "code",
      "metadata": {
        "id": "QJuhygUo7VQI",
        "colab": {
          "base_uri": "https://localhost:8080/"
        },
        "outputId": "94fc93d1-0281-4764-9a67-d97678a94a41"
      },
      "source": [
        "type(grade)"
      ],
      "execution_count": 26,
      "outputs": [
        {
          "output_type": "execute_result",
          "data": {
            "text/plain": [
              "dict"
            ]
          },
          "metadata": {},
          "execution_count": 26
        }
      ]
    },
    {
      "cell_type": "code",
      "metadata": {
        "id": "qXT0waorQFxf"
      },
      "source": [
        "import json"
      ],
      "execution_count": 27,
      "outputs": []
    },
    {
      "cell_type": "code",
      "metadata": {
        "id": "aLziZxXe7N7n",
        "colab": {
          "base_uri": "https://localhost:8080/",
          "height": 58
        },
        "outputId": "59c59070-0bdd-42b1-ac0c-cd90df094d88"
      },
      "source": [
        "json.dumps(grade)"
      ],
      "execution_count": 28,
      "outputs": [
        {
          "output_type": "execute_result",
          "data": {
            "application/vnd.google.colaboratory.intrinsic+json": {
              "type": "string"
            },
            "text/plain": [
              "'{\"A\": 80, \"B\": 70, \"C\": 60, \"D\": 50}'"
            ]
          },
          "metadata": {},
          "execution_count": 28
        }
      ]
    },
    {
      "cell_type": "code",
      "metadata": {
        "id": "kqb-v-jU8pua",
        "colab": {
          "base_uri": "https://localhost:8080/"
        },
        "outputId": "40285455-25ed-40a8-e9e9-7717ad106da9"
      },
      "source": [
        "type(json.dumps(grade))"
      ],
      "execution_count": 29,
      "outputs": [
        {
          "output_type": "execute_result",
          "data": {
            "text/plain": [
              "str"
            ]
          },
          "metadata": {},
          "execution_count": 29
        }
      ]
    },
    {
      "cell_type": "code",
      "metadata": {
        "id": "fRzd7zDw9Fyq"
      },
      "source": [
        "json_str = json.dumps(grade)"
      ],
      "execution_count": 30,
      "outputs": []
    },
    {
      "cell_type": "code",
      "metadata": {
        "id": "GCep6wVf8xpX",
        "colab": {
          "base_uri": "https://localhost:8080/"
        },
        "outputId": "accd3db3-14d9-421b-a1c8-2680c60e15b0"
      },
      "source": [
        "json.loads(json_str)"
      ],
      "execution_count": 31,
      "outputs": [
        {
          "output_type": "execute_result",
          "data": {
            "text/plain": [
              "{'A': 80, 'B': 70, 'C': 60, 'D': 50}"
            ]
          },
          "metadata": {},
          "execution_count": 31
        }
      ]
    },
    {
      "cell_type": "code",
      "metadata": {
        "id": "6KKa-0ni9r2E",
        "colab": {
          "base_uri": "https://localhost:8080/"
        },
        "outputId": "ec68d9dc-ecce-43c2-dedf-484537abafff"
      },
      "source": [
        "type(json.loads(json_str))"
      ],
      "execution_count": 32,
      "outputs": [
        {
          "output_type": "execute_result",
          "data": {
            "text/plain": [
              "dict"
            ]
          },
          "metadata": {},
          "execution_count": 32
        }
      ]
    },
    {
      "cell_type": "code",
      "metadata": {
        "id": "z1_5vfvr99pw"
      },
      "source": [
        "# Save to output file grade.json\n",
        "json.dump(grade, open(\"grade.json\", \"w\"))"
      ],
      "execution_count": 33,
      "outputs": []
    },
    {
      "cell_type": "markdown",
      "metadata": {
        "id": "skWzMnK81nL5"
      },
      "source": [
        "## Function\n",
        "\n",
        "*   Standard Library\n",
        "**   Built-in functions [อ่านเพิ่มเติม](https://docs.python.org/3.6/library/functions.html)\n",
        "**   Library functions [อ่านเพิ่มเติม](https://pypi.org/)\n",
        "*   User defined functions\n",
        "\n"
      ]
    },
    {
      "cell_type": "markdown",
      "metadata": {
        "id": "Ftu2euHycYAA"
      },
      "source": [
        "### Python Packages"
      ]
    },
    {
      "cell_type": "code",
      "metadata": {
        "id": "efDIf2UvcjT8",
        "colab": {
          "base_uri": "https://localhost:8080/"
        },
        "outputId": "12b8502b-1436-4ff7-8503-e7a875aec281"
      },
      "source": [
        "import __hello__"
      ],
      "execution_count": 34,
      "outputs": [
        {
          "output_type": "stream",
          "name": "stdout",
          "text": [
            "Hello world!\n"
          ]
        }
      ]
    },
    {
      "cell_type": "code",
      "metadata": {
        "id": "svhdHM4Y5oPT",
        "colab": {
          "base_uri": "https://localhost:8080/"
        },
        "outputId": "ac7e75cb-f5fb-43a4-9e7c-d038579c1d14"
      },
      "source": [
        "!pip list"
      ],
      "execution_count": 35,
      "outputs": [
        {
          "output_type": "stream",
          "name": "stdout",
          "text": [
            "Package                       Version\n",
            "----------------------------- --------------\n",
            "absl-py                       0.12.0\n",
            "alabaster                     0.7.12\n",
            "albumentations                0.1.12\n",
            "altair                        4.1.0\n",
            "appdirs                       1.4.4\n",
            "argcomplete                   1.12.3\n",
            "argon2-cffi                   21.1.0\n",
            "arviz                         0.11.2\n",
            "astor                         0.8.1\n",
            "astropy                       4.3.1\n",
            "astunparse                    1.6.3\n",
            "atari-py                      0.2.9\n",
            "atomicwrites                  1.4.0\n",
            "attrs                         21.2.0\n",
            "audioread                     2.1.9\n",
            "autograd                      1.3\n",
            "Babel                         2.9.1\n",
            "backcall                      0.2.0\n",
            "beautifulsoup4                4.6.3\n",
            "bleach                        4.0.0\n",
            "blis                          0.4.1\n",
            "bokeh                         2.3.3\n",
            "Bottleneck                    1.3.2\n",
            "branca                        0.4.2\n",
            "bs4                           0.0.1\n",
            "CacheControl                  0.12.6\n",
            "cached-property               1.5.2\n",
            "cachetools                    4.2.2\n",
            "catalogue                     1.0.0\n",
            "certifi                       2021.5.30\n",
            "cffi                          1.14.6\n",
            "cftime                        1.5.0\n",
            "chardet                       3.0.4\n",
            "charset-normalizer            2.0.4\n",
            "clang                         5.0\n",
            "click                         7.1.2\n",
            "cloudpickle                   1.3.0\n",
            "cmake                         3.12.0\n",
            "cmdstanpy                     0.9.5\n",
            "colorcet                      2.0.6\n",
            "colorlover                    0.3.0\n",
            "community                     1.0.0b1\n",
            "contextlib2                   0.5.5\n",
            "convertdate                   2.3.2\n",
            "coverage                      3.7.1\n",
            "coveralls                     0.5\n",
            "crcmod                        1.7\n",
            "cufflinks                     0.17.3\n",
            "cvxopt                        1.2.6\n",
            "cvxpy                         1.0.31\n",
            "cycler                        0.10.0\n",
            "cymem                         2.0.5\n",
            "Cython                        0.29.24\n",
            "daft                          0.0.4\n",
            "dask                          2.12.0\n",
            "datascience                   0.10.6\n",
            "debugpy                       1.0.0\n",
            "decorator                     4.4.2\n",
            "defusedxml                    0.7.1\n",
            "descartes                     1.1.0\n",
            "dill                          0.3.4\n",
            "distributed                   1.25.3\n",
            "dlib                          19.18.0\n",
            "dm-tree                       0.1.6\n",
            "docopt                        0.6.2\n",
            "docutils                      0.17.1\n",
            "dopamine-rl                   1.0.5\n",
            "earthengine-api               0.1.278\n",
            "easydict                      1.9\n",
            "ecos                          2.0.7.post1\n",
            "editdistance                  0.5.3\n",
            "en-core-web-sm                2.2.5\n",
            "entrypoints                   0.3\n",
            "ephem                         4.0.0.2\n",
            "et-xmlfile                    1.1.0\n",
            "fa2                           0.3.5\n",
            "fastai                        1.0.61\n",
            "fastdtw                       0.3.4\n",
            "fastprogress                  1.0.0\n",
            "fastrlock                     0.6\n",
            "fbprophet                     0.7.1\n",
            "feather-format                0.4.1\n",
            "filelock                      3.0.12\n",
            "firebase-admin                4.4.0\n",
            "fix-yahoo-finance             0.0.22\n",
            "Flask                         1.1.4\n",
            "flatbuffers                   1.12\n",
            "folium                        0.8.3\n",
            "future                        0.16.0\n",
            "gast                          0.4.0\n",
            "GDAL                          2.2.2\n",
            "gdown                         3.6.4\n",
            "gensim                        3.6.0\n",
            "geographiclib                 1.52\n",
            "geopy                         1.17.0\n",
            "gin-config                    0.4.0\n",
            "glob2                         0.7\n",
            "google                        2.0.3\n",
            "google-api-core               1.26.3\n",
            "google-api-python-client      1.12.8\n",
            "google-auth                   1.34.0\n",
            "google-auth-httplib2          0.0.4\n",
            "google-auth-oauthlib          0.4.5\n",
            "google-cloud-bigquery         1.21.0\n",
            "google-cloud-bigquery-storage 1.1.0\n",
            "google-cloud-core             1.0.3\n",
            "google-cloud-datastore        1.8.0\n",
            "google-cloud-firestore        1.7.0\n",
            "google-cloud-language         1.2.0\n",
            "google-cloud-storage          1.18.1\n",
            "google-cloud-translate        1.5.0\n",
            "google-colab                  1.0.0\n",
            "google-pasta                  0.2.0\n",
            "google-resumable-media        0.4.1\n",
            "googleapis-common-protos      1.53.0\n",
            "googledrivedownloader         0.4\n",
            "graphviz                      0.10.1\n",
            "greenlet                      1.1.1\n",
            "grpcio                        1.39.0\n",
            "gspread                       3.0.1\n",
            "gspread-dataframe             3.0.8\n",
            "gym                           0.17.3\n",
            "h5py                          3.1.0\n",
            "HeapDict                      1.0.1\n",
            "hijri-converter               2.1.3\n",
            "holidays                      0.10.5.2\n",
            "holoviews                     1.14.5\n",
            "html5lib                      1.0.1\n",
            "httpimport                    0.5.18\n",
            "httplib2                      0.17.4\n",
            "httplib2shim                  0.0.3\n",
            "humanize                      0.5.1\n",
            "hyperopt                      0.1.2\n",
            "ideep4py                      2.0.0.post3\n",
            "idna                          2.10\n",
            "imageio                       2.4.1\n",
            "imagesize                     1.2.0\n",
            "imbalanced-learn              0.4.3\n",
            "imblearn                      0.0\n",
            "imgaug                        0.2.9\n",
            "importlib-metadata            4.6.4\n",
            "importlib-resources           5.2.2\n",
            "imutils                       0.5.4\n",
            "inflect                       2.1.0\n",
            "iniconfig                     1.1.1\n",
            "intel-openmp                  2021.3.0\n",
            "intervaltree                  2.1.0\n",
            "ipykernel                     4.10.1\n",
            "ipython                       5.5.0\n",
            "ipython-genutils              0.2.0\n",
            "ipython-sql                   0.3.9\n",
            "ipywidgets                    7.6.3\n",
            "itsdangerous                  1.1.0\n",
            "jax                           0.2.19\n",
            "jaxlib                        0.1.70+cuda110\n",
            "jdcal                         1.4.1\n",
            "jedi                          0.18.0\n",
            "jieba                         0.42.1\n",
            "Jinja2                        2.11.3\n",
            "joblib                        1.0.1\n",
            "jpeg4py                       0.1.4\n",
            "jsonschema                    2.6.0\n",
            "jupyter                       1.0.0\n",
            "jupyter-client                5.3.5\n",
            "jupyter-console               5.2.0\n",
            "jupyter-core                  4.7.1\n",
            "jupyterlab-pygments           0.1.2\n",
            "jupyterlab-widgets            1.0.0\n",
            "kaggle                        1.5.12\n",
            "kapre                         0.3.5\n",
            "keras                         2.6.0\n",
            "Keras-Preprocessing           1.1.2\n",
            "keras-vis                     0.4.1\n",
            "kiwisolver                    1.3.1\n",
            "korean-lunar-calendar         0.2.1\n",
            "librosa                       0.8.1\n",
            "lightgbm                      2.2.3\n",
            "llvmlite                      0.34.0\n",
            "lmdb                          0.99\n",
            "LunarCalendar                 0.0.9\n",
            "lxml                          4.2.6\n",
            "Markdown                      3.3.4\n",
            "MarkupSafe                    2.0.1\n",
            "matplotlib                    3.2.2\n",
            "matplotlib-inline             0.1.2\n",
            "matplotlib-venn               0.11.6\n",
            "missingno                     0.5.0\n",
            "mistune                       0.8.4\n",
            "mizani                        0.6.0\n",
            "mkl                           2019.0\n",
            "mlxtend                       0.14.0\n",
            "more-itertools                8.8.0\n",
            "moviepy                       0.2.3.5\n",
            "mpmath                        1.2.1\n",
            "msgpack                       1.0.2\n",
            "multiprocess                  0.70.12.2\n",
            "multitasking                  0.0.9\n",
            "murmurhash                    1.0.5\n",
            "music21                       5.5.0\n",
            "natsort                       5.5.0\n",
            "nbclient                      0.5.4\n",
            "nbconvert                     5.6.1\n",
            "nbformat                      5.1.3\n",
            "nest-asyncio                  1.5.1\n",
            "netCDF4                       1.5.7\n",
            "networkx                      2.6.2\n",
            "nibabel                       3.0.2\n",
            "nltk                          3.2.5\n",
            "notebook                      5.3.1\n",
            "numba                         0.51.2\n",
            "numexpr                       2.7.3\n",
            "numpy                         1.19.5\n",
            "nvidia-ml-py3                 7.352.0\n",
            "oauth2client                  4.1.3\n",
            "oauthlib                      3.1.1\n",
            "okgrade                       0.4.3\n",
            "opencv-contrib-python         4.1.2.30\n",
            "opencv-python                 4.1.2.30\n",
            "openpyxl                      2.5.9\n",
            "opt-einsum                    3.3.0\n",
            "osqp                          0.6.2.post0\n",
            "packaging                     21.0\n",
            "palettable                    3.3.0\n",
            "pandas                        1.1.5\n",
            "pandas-datareader             0.9.0\n",
            "pandas-gbq                    0.13.3\n",
            "pandas-profiling              1.4.1\n",
            "pandocfilters                 1.4.3\n",
            "panel                         0.12.1\n",
            "param                         1.11.1\n",
            "parso                         0.8.2\n",
            "pathlib                       1.0.1\n",
            "patsy                         0.5.1\n",
            "pep517                        0.11.0\n",
            "pexpect                       4.8.0\n",
            "pickleshare                   0.7.5\n",
            "Pillow                        7.1.2\n",
            "pip                           21.1.3\n",
            "pip-tools                     6.2.0\n",
            "plac                          1.1.3\n",
            "plotly                        4.4.1\n",
            "plotnine                      0.6.0\n",
            "pluggy                        0.7.1\n",
            "pooch                         1.4.0\n",
            "portpicker                    1.3.9\n",
            "prefetch-generator            1.0.1\n",
            "preshed                       3.0.5\n",
            "prettytable                   2.1.0\n",
            "progressbar2                  3.38.0\n",
            "prometheus-client             0.11.0\n",
            "promise                       2.3\n",
            "prompt-toolkit                1.0.18\n",
            "protobuf                      3.17.3\n",
            "psutil                        5.4.8\n",
            "psycopg2                      2.7.6.1\n",
            "ptyprocess                    0.7.0\n",
            "py                            1.10.0\n",
            "pyarrow                       3.0.0\n",
            "pyasn1                        0.4.8\n",
            "pyasn1-modules                0.2.8\n",
            "pycocotools                   2.0.2\n",
            "pycparser                     2.20\n",
            "pyct                          0.4.8\n",
            "pydata-google-auth            1.2.0\n",
            "pydot                         1.3.0\n",
            "pydot-ng                      2.0.0\n",
            "pydotplus                     2.0.2\n",
            "PyDrive                       1.3.1\n",
            "pyemd                         0.5.1\n",
            "pyerfa                        2.0.0\n",
            "pyglet                        1.5.0\n",
            "Pygments                      2.6.1\n",
            "pygobject                     3.26.1\n",
            "pymc3                         3.11.2\n",
            "PyMeeus                       0.5.11\n",
            "pymongo                       3.12.0\n",
            "pymystem3                     0.2.0\n",
            "PyOpenGL                      3.1.5\n",
            "pyparsing                     2.4.7\n",
            "pyrsistent                    0.18.0\n",
            "pysndfile                     1.3.8\n",
            "PySocks                       1.7.1\n",
            "pystan                        2.19.1.1\n",
            "pytest                        3.6.4\n",
            "python-apt                    0.0.0\n",
            "python-chess                  0.23.11\n",
            "python-dateutil               2.8.2\n",
            "python-louvain                0.15\n",
            "python-slugify                5.0.2\n",
            "python-utils                  2.5.6\n",
            "pytz                          2018.9\n",
            "pyviz-comms                   2.1.0\n",
            "PyWavelets                    1.1.1\n",
            "PyYAML                        3.13\n",
            "pyzmq                         22.2.1\n",
            "qdldl                         0.1.5.post0\n",
            "qtconsole                     5.1.1\n",
            "QtPy                          1.10.0\n",
            "regex                         2019.12.20\n",
            "requests                      2.23.0\n",
            "requests-oauthlib             1.3.0\n",
            "resampy                       0.2.2\n",
            "retrying                      1.3.3\n",
            "rpy2                          3.4.5\n",
            "rsa                           4.7.2\n",
            "scikit-image                  0.16.2\n",
            "scikit-learn                  0.22.2.post1\n",
            "scipy                         1.4.1\n",
            "screen-resolution-extra       0.0.0\n",
            "scs                           2.1.4\n",
            "seaborn                       0.11.1\n",
            "semver                        2.13.0\n",
            "Send2Trash                    1.8.0\n",
            "setuptools                    57.4.0\n",
            "setuptools-git                1.2\n",
            "Shapely                       1.7.1\n",
            "simplegeneric                 0.8.1\n",
            "six                           1.15.0\n",
            "sklearn                       0.0\n",
            "sklearn-pandas                1.8.0\n",
            "smart-open                    5.1.0\n",
            "snowballstemmer               2.1.0\n",
            "sortedcontainers              2.4.0\n",
            "SoundFile                     0.10.3.post1\n",
            "spacy                         2.2.4\n",
            "Sphinx                        1.8.5\n",
            "sphinxcontrib-serializinghtml 1.1.5\n",
            "sphinxcontrib-websupport      1.2.4\n",
            "SQLAlchemy                    1.4.22\n",
            "sqlparse                      0.4.1\n",
            "srsly                         1.0.5\n",
            "statsmodels                   0.10.2\n",
            "sympy                         1.7.1\n",
            "tables                        3.4.4\n",
            "tabulate                      0.8.9\n",
            "tblib                         1.7.0\n",
            "tensorboard                   2.6.0\n",
            "tensorboard-data-server       0.6.1\n",
            "tensorboard-plugin-wit        1.8.0\n",
            "tensorflow                    2.6.0\n",
            "tensorflow-datasets           4.0.1\n",
            "tensorflow-estimator          2.6.0\n",
            "tensorflow-gcs-config         2.6.0\n",
            "tensorflow-hub                0.12.0\n",
            "tensorflow-metadata           1.2.0\n",
            "tensorflow-probability        0.13.0\n",
            "termcolor                     1.1.0\n",
            "terminado                     0.11.0\n",
            "testpath                      0.5.0\n",
            "text-unidecode                1.3\n",
            "textblob                      0.15.3\n",
            "Theano-PyMC                   1.1.2\n",
            "thinc                         7.4.0\n",
            "tifffile                      2021.8.30\n",
            "toml                          0.10.2\n",
            "tomli                         1.2.1\n",
            "toolz                         0.11.1\n",
            "torch                         1.9.0+cu102\n",
            "torchsummary                  1.5.1\n",
            "torchtext                     0.10.0\n",
            "torchvision                   0.10.0+cu102\n",
            "tornado                       5.1.1\n",
            "tqdm                          4.62.0\n",
            "traitlets                     5.0.5\n",
            "tweepy                        3.10.0\n",
            "typeguard                     2.7.1\n",
            "typing-extensions             3.7.4.3\n",
            "tzlocal                       1.5.1\n",
            "uritemplate                   3.0.1\n",
            "urllib3                       1.24.3\n",
            "vega-datasets                 0.9.0\n",
            "wasabi                        0.8.2\n",
            "wcwidth                       0.2.5\n",
            "webencodings                  0.5.1\n",
            "Werkzeug                      1.0.1\n",
            "wheel                         0.37.0\n",
            "widgetsnbextension            3.5.1\n",
            "wordcloud                     1.5.0\n",
            "wrapt                         1.12.1\n",
            "xarray                        0.18.2\n",
            "xgboost                       0.90\n",
            "xkit                          0.0.0\n",
            "xlrd                          1.1.0\n",
            "xlwt                          1.3.0\n",
            "yellowbrick                   0.9.1\n",
            "zict                          2.0.0\n",
            "zipp                          3.5.0\n"
          ]
        }
      ]
    },
    {
      "cell_type": "code",
      "metadata": {
        "id": "7_LUlsGTcxDT",
        "colab": {
          "base_uri": "https://localhost:8080/"
        },
        "outputId": "dc744bff-f675-41ff-c35f-a86287abe5ce"
      },
      "source": [
        "import math\n",
        "\n",
        "math.pi"
      ],
      "execution_count": 36,
      "outputs": [
        {
          "output_type": "execute_result",
          "data": {
            "text/plain": [
              "3.141592653589793"
            ]
          },
          "metadata": {},
          "execution_count": 36
        }
      ]
    },
    {
      "cell_type": "markdown",
      "metadata": {
        "id": "USn2zGrvdYOy"
      },
      "source": [
        "or using from statement"
      ]
    },
    {
      "cell_type": "code",
      "metadata": {
        "id": "YVigxwRvdFcL",
        "colab": {
          "base_uri": "https://localhost:8080/"
        },
        "outputId": "d5f086c0-4b13-4149-a36a-19a8e0ff7d68"
      },
      "source": [
        "from math import pi\n",
        "\n",
        "pi"
      ],
      "execution_count": 37,
      "outputs": [
        {
          "output_type": "execute_result",
          "data": {
            "text/plain": [
              "3.141592653589793"
            ]
          },
          "metadata": {},
          "execution_count": 37
        }
      ]
    },
    {
      "cell_type": "markdown",
      "metadata": {
        "id": "dEyyUh5P70iV"
      },
      "source": [
        "Datetime function"
      ]
    },
    {
      "cell_type": "code",
      "metadata": {
        "id": "qFB9ARmS5Ay_",
        "colab": {
          "base_uri": "https://localhost:8080/"
        },
        "outputId": "68a696a3-6209-4116-ad7a-f6662443fee8"
      },
      "source": [
        "import datetime\n",
        "\n",
        "now = datetime.datetime.now()\n",
        "now"
      ],
      "execution_count": 38,
      "outputs": [
        {
          "output_type": "execute_result",
          "data": {
            "text/plain": [
              "datetime.datetime(2021, 9, 8, 14, 16, 22, 228470)"
            ]
          },
          "metadata": {},
          "execution_count": 38
        }
      ]
    },
    {
      "cell_type": "code",
      "metadata": {
        "id": "qAWFFFXQrW2B",
        "colab": {
          "base_uri": "https://localhost:8080/"
        },
        "outputId": "bc77a825-cbd9-4be0-edec-89e75c6dddfa"
      },
      "source": [
        "import pytz\n",
        "# print('all_timezones =', pytz.all_timezones, '\\n')\n",
        "tz = pytz.timezone('Asia/Bangkok')\n",
        "\n",
        "datetime.datetime.now(tz)"
      ],
      "execution_count": 39,
      "outputs": [
        {
          "output_type": "execute_result",
          "data": {
            "text/plain": [
              "datetime.datetime(2021, 9, 8, 21, 16, 22, 277619, tzinfo=<DstTzInfo 'Asia/Bangkok' +07+7:00:00 STD>)"
            ]
          },
          "metadata": {},
          "execution_count": 39
        }
      ]
    },
    {
      "cell_type": "code",
      "metadata": {
        "id": "J8_GMvT6UpxH"
      },
      "source": [
        "# now.astimezone()"
      ],
      "execution_count": 40,
      "outputs": []
    },
    {
      "cell_type": "code",
      "metadata": {
        "id": "0qTBCCUhqslU"
      },
      "source": [
        "# now.utcnow()"
      ],
      "execution_count": 41,
      "outputs": []
    },
    {
      "cell_type": "code",
      "metadata": {
        "id": "Hjf2A4WAO4Sh"
      },
      "source": [
        "# now.isoformat()"
      ],
      "execution_count": 42,
      "outputs": []
    },
    {
      "cell_type": "code",
      "metadata": {
        "id": "mP7YZxDR5X6l"
      },
      "source": [
        "# today = datetime.date.today()"
      ],
      "execution_count": 43,
      "outputs": []
    },
    {
      "cell_type": "code",
      "metadata": {
        "id": "yaWMiGH0O-sI"
      },
      "source": [
        "# today.isoformat()"
      ],
      "execution_count": 44,
      "outputs": []
    },
    {
      "cell_type": "markdown",
      "metadata": {
        "id": "pjRhF6m9w0WZ"
      },
      "source": [
        "### Simple functions\n",
        "\n",
        "```\n",
        "# def function_name ( [parameter list] ):\n",
        "#  statements\n",
        "#  [ return exression ]\n",
        "# \n",
        "# [VariableName =] function_name ( [argument list] )\n",
        "```\n",
        "\n"
      ]
    },
    {
      "cell_type": "code",
      "metadata": {
        "id": "F1Bio3zD2WX2",
        "colab": {
          "base_uri": "https://localhost:8080/"
        },
        "outputId": "2369d7f5-a4c3-45a7-d774-4debaf84f5d9"
      },
      "source": [
        "def simplefunc():\n",
        "  s = \"ละแมะว่างจริงๆ อะหรือ อะหรือ... อะหรือว่ามีคนอื่น...\"\n",
        "  print(s)\n",
        "\n",
        "simplefunc()"
      ],
      "execution_count": 45,
      "outputs": [
        {
          "output_type": "stream",
          "name": "stdout",
          "text": [
            "ละแมะว่างจริงๆ อะหรือ อะหรือ... อะหรือว่ามีคนอื่น...\n"
          ]
        }
      ]
    },
    {
      "cell_type": "markdown",
      "metadata": {
        "id": "mfk0js2-uLHn"
      },
      "source": [
        "#### Function arguments\n",
        "\n",
        "* Position arguments\n",
        "* Default arguments\n",
        "* Keyword arguments\n",
        "* Variable-length arguments"
      ]
    },
    {
      "cell_type": "code",
      "metadata": {
        "id": "4Qruy5d21l76",
        "colab": {
          "base_uri": "https://localhost:8080/"
        },
        "outputId": "0b0c3945-a286-4e71-ef79-7c8e7e820b45"
      },
      "source": [
        "# position arguments\n",
        "def circle_area(radius):\n",
        "  return pi * radius * radius\n",
        "\n",
        "circle_area(2)"
      ],
      "execution_count": 46,
      "outputs": [
        {
          "output_type": "execute_result",
          "data": {
            "text/plain": [
              "12.566370614359172"
            ]
          },
          "metadata": {},
          "execution_count": 46
        }
      ]
    },
    {
      "cell_type": "code",
      "metadata": {
        "id": "-rtsx6QW12aM",
        "colab": {
          "base_uri": "https://localhost:8080/"
        },
        "outputId": "42796453-2466-497a-d617-b716cd515ca8"
      },
      "source": [
        "def rectangle_area(height, width):\n",
        "  return height * width\n",
        "\n",
        "rectangle_area(4, 5)"
      ],
      "execution_count": 47,
      "outputs": [
        {
          "output_type": "execute_result",
          "data": {
            "text/plain": [
              "20"
            ]
          },
          "metadata": {},
          "execution_count": 47
        }
      ]
    },
    {
      "cell_type": "code",
      "metadata": {
        "id": "lswe1z6S3rtX",
        "colab": {
          "base_uri": "https://localhost:8080/"
        },
        "outputId": "3715d219-837f-44df-e6b4-11ab69497c91"
      },
      "source": [
        "# default arguments\n",
        "def conversion(amount, rate=31.33):\n",
        "  return amount * rate\n",
        "\n",
        "\n",
        "conversion(30)"
      ],
      "execution_count": 48,
      "outputs": [
        {
          "output_type": "execute_result",
          "data": {
            "text/plain": [
              "939.9"
            ]
          },
          "metadata": {},
          "execution_count": 48
        }
      ]
    },
    {
      "cell_type": "code",
      "metadata": {
        "id": "uWD-VVlP4jFx",
        "colab": {
          "base_uri": "https://localhost:8080/"
        },
        "outputId": "2d38ff69-9111-4675-cf55-c1f664b916bb"
      },
      "source": [
        "conversion(30, 33.3333)"
      ],
      "execution_count": 49,
      "outputs": [
        {
          "output_type": "execute_result",
          "data": {
            "text/plain": [
              "999.999"
            ]
          },
          "metadata": {},
          "execution_count": 49
        }
      ]
    },
    {
      "cell_type": "code",
      "metadata": {
        "id": "kxWoAba93wI6",
        "colab": {
          "base_uri": "https://localhost:8080/"
        },
        "outputId": "64b2a01f-1ea5-4791-fe08-567e4c618ca3"
      },
      "source": [
        "# Keyword argument\n",
        "conversion(amount= 30, rate=33.3333)"
      ],
      "execution_count": 50,
      "outputs": [
        {
          "output_type": "execute_result",
          "data": {
            "text/plain": [
              "999.999"
            ]
          },
          "metadata": {},
          "execution_count": 50
        }
      ]
    },
    {
      "cell_type": "code",
      "metadata": {
        "id": "wuECdWqJu9IH",
        "colab": {
          "base_uri": "https://localhost:8080/"
        },
        "outputId": "d3a286b9-44e7-41d0-e2e4-ab9f03d1017c"
      },
      "source": [
        "def plus(a = 1, b = 2):\n",
        "  return a + b\n",
        "\n",
        "plus(4)"
      ],
      "execution_count": 51,
      "outputs": [
        {
          "output_type": "execute_result",
          "data": {
            "text/plain": [
              "6"
            ]
          },
          "metadata": {},
          "execution_count": 51
        }
      ]
    },
    {
      "cell_type": "code",
      "metadata": {
        "id": "C9up7MWo4gsm",
        "colab": {
          "base_uri": "https://localhost:8080/"
        },
        "outputId": "95c61117-fc8c-47f0-8e91-9bbfd2da040a"
      },
      "source": [
        "# Variable-length arguments\n",
        "# def functionname( [formal_args], *var_args ):\n",
        "#   statement\n",
        "\n",
        "def salesAmount(product, *sales):\n",
        "  result = 0\n",
        "  print(\"Product name : \", product)\n",
        "  if len(sales) == 0:\n",
        "    print(\"No SalesAmount\")\n",
        "  else:\n",
        "    for var in sales:\n",
        "      result += var\n",
        "    print(\"SalesAmount = \", result)\n",
        "\n",
        "salesAmount(\"Book\", 10, 20, 50)"
      ],
      "execution_count": 52,
      "outputs": [
        {
          "output_type": "stream",
          "name": "stdout",
          "text": [
            "Product name :  Book\n",
            "SalesAmount =  80\n"
          ]
        }
      ]
    },
    {
      "cell_type": "markdown",
      "metadata": {
        "id": "nozDxGMDoM6b"
      },
      "source": [
        "#### Variable scope\n",
        "\n",
        "*   Local variable\n",
        "*   Global variable\n",
        "*   Nonlocal variable * support for python3+ *\n",
        "\n"
      ]
    },
    {
      "cell_type": "code",
      "metadata": {
        "id": "Pd8dsgNdo_iV",
        "colab": {
          "base_uri": "https://localhost:8080/"
        },
        "outputId": "dc2e0ae1-605c-4437-edbf-2a33a4733874"
      },
      "source": [
        "# Local variable\n",
        "def myfuncLocal():\n",
        "  s = \"This is local variable\"\n",
        "  print(s)\n",
        "\n",
        "myfuncLocal()"
      ],
      "execution_count": 53,
      "outputs": [
        {
          "output_type": "stream",
          "name": "stdout",
          "text": [
            "This is local variable\n"
          ]
        }
      ]
    },
    {
      "cell_type": "code",
      "metadata": {
        "id": "mqIJhb68pVGk",
        "colab": {
          "base_uri": "https://localhost:8080/"
        },
        "outputId": "b7ffe9e6-e737-48b9-fca4-2d8a388f04b9"
      },
      "source": [
        "# Global variable\n",
        "g = \"This is global variable\"\n",
        "def myfuncGlobal():\n",
        "  # global g\n",
        "  # g = 1\n",
        "  print(g)\n",
        "\n",
        "print(g)\n",
        "myfuncGlobal()\n",
        "print(g)"
      ],
      "execution_count": 54,
      "outputs": [
        {
          "output_type": "stream",
          "name": "stdout",
          "text": [
            "This is global variable\n",
            "This is global variable\n",
            "This is global variable\n"
          ]
        }
      ]
    },
    {
      "cell_type": "code",
      "metadata": {
        "id": "t5433178qsYh",
        "colab": {
          "base_uri": "https://localhost:8080/"
        },
        "outputId": "8ad5f931-9d07-4428-b3e0-3fdf5e42c34b"
      },
      "source": [
        "# Nonlocal variable : เหมือนเป็น global ของ subfunction อีกที\n",
        "def funcMain():\n",
        "  # global x\n",
        "  x = 30\n",
        "  # print('Value in mainfunction : x = ', x)\n",
        "  def funcSub():\n",
        "    x = 19\n",
        "  print(\"Before calling subfunction : x = \", x)\n",
        "  funcSub()\n",
        "  print(\"After calling subfunction : x = \", x)\n",
        "\n",
        "x = 85 # define global variable\n",
        "funcMain()\n",
        "print(\"Value of x in mainfunction : x = \", x)"
      ],
      "execution_count": 55,
      "outputs": [
        {
          "output_type": "stream",
          "name": "stdout",
          "text": [
            "Before calling subfunction : x =  30\n",
            "After calling subfunction : x =  30\n",
            "Value of x in mainfunction : x =  85\n"
          ]
        }
      ]
    },
    {
      "cell_type": "markdown",
      "metadata": {
        "id": "hc9sMCn6MkVL"
      },
      "source": [
        "### Tips#1 : ``return`` vs ``not return``"
      ]
    },
    {
      "cell_type": "code",
      "metadata": {
        "id": "fIbfqyjfMEdP",
        "colab": {
          "base_uri": "https://localhost:8080/"
        },
        "outputId": "87a01109-9c73-4a66-fef4-df8653d905b3"
      },
      "source": [
        "def myfunc():\n",
        "  print('Hey guy!')\n",
        "  # return print('Hey guy!')\n",
        "\n",
        "a = myfunc()\n",
        "a"
      ],
      "execution_count": 56,
      "outputs": [
        {
          "output_type": "stream",
          "name": "stdout",
          "text": [
            "Hey guy!\n"
          ]
        }
      ]
    },
    {
      "cell_type": "code",
      "metadata": {
        "id": "gSsd6i2BN3Na",
        "colab": {
          "base_uri": "https://localhost:8080/"
        },
        "outputId": "d65c9964-5e2e-41e0-b0a6-b38e3eb9b7ab"
      },
      "source": [
        "print(a)"
      ],
      "execution_count": 57,
      "outputs": [
        {
          "output_type": "stream",
          "name": "stdout",
          "text": [
            "None\n"
          ]
        }
      ]
    },
    {
      "cell_type": "code",
      "metadata": {
        "id": "81p4zPxbON70",
        "colab": {
          "base_uri": "https://localhost:8080/"
        },
        "outputId": "a177b895-1ac0-4113-f8a1-8f5bf64ffbb0"
      },
      "source": [
        "def myfunc():\n",
        "  return 'Hey guy!'\n",
        "\n",
        "a = myfunc()\n",
        "print(a)"
      ],
      "execution_count": 58,
      "outputs": [
        {
          "output_type": "stream",
          "name": "stdout",
          "text": [
            "Hey guy!\n"
          ]
        }
      ]
    },
    {
      "cell_type": "markdown",
      "metadata": {
        "id": "kSborAT8qTuT"
      },
      "source": [
        "### Tips#2 : Lambda function\n",
        "\n",
        "```\n",
        "# function_name = lambda [arg1 [, arg2,..., argn]] : expression\n",
        "```\n",
        "\n"
      ]
    },
    {
      "cell_type": "code",
      "metadata": {
        "id": "ZkKVFYaZ7THM",
        "colab": {
          "base_uri": "https://localhost:8080/"
        },
        "outputId": "3a4c6ddb-bb79-4475-9a95-38a360118e06"
      },
      "source": [
        "rectangle_area = lambda height, width : height * width\n",
        "rectangle_area(10, 20)"
      ],
      "execution_count": 59,
      "outputs": [
        {
          "output_type": "execute_result",
          "data": {
            "text/plain": [
              "200"
            ]
          },
          "metadata": {},
          "execution_count": 59
        }
      ]
    },
    {
      "cell_type": "code",
      "metadata": {
        "id": "5Izal8_i7ns6",
        "colab": {
          "base_uri": "https://localhost:8080/"
        },
        "outputId": "8af0d78f-05ea-4b11-90a8-27351e43a9f3"
      },
      "source": [
        "theta = lambda i : 2*i if (i < 5) else 0\n",
        "THETA = [theta(i) for i in range(1, 10)]\n",
        "THETA"
      ],
      "execution_count": 60,
      "outputs": [
        {
          "output_type": "execute_result",
          "data": {
            "text/plain": [
              "[2, 4, 6, 8, 0, 0, 0, 0, 0]"
            ]
          },
          "metadata": {},
          "execution_count": 60
        }
      ]
    },
    {
      "cell_type": "markdown",
      "metadata": {
        "id": "G8L9_LU-NtRL"
      },
      "source": [
        "### Tips#3 : Decorators\n",
        "[อ่านเพิ่มเติม](https://medium.com/@skblackcat/decorator-%E0%B9%83%E0%B8%99-python-%E0%B8%84%E0%B8%B7%E0%B8%AD%E0%B8%AD%E0%B8%B0%E0%B9%84%E0%B8%A3-%E0%B9%81%E0%B8%A5%E0%B8%B0%E0%B8%A1%E0%B8%B1%E0%B8%99%E0%B9%83%E0%B8%8A%E0%B9%89%E0%B8%97%E0%B8%B3%E0%B8%AD%E0%B8%B0%E0%B9%84%E0%B8%A3%E0%B9%84%E0%B8%94%E0%B9%89%E0%B8%9A%E0%B9%89%E0%B8%B2%E0%B8%87-ee74e35e84fb)"
      ]
    },
    {
      "cell_type": "code",
      "metadata": {
        "id": "eCeb83NNN1CD",
        "colab": {
          "base_uri": "https://localhost:8080/",
          "height": 58
        },
        "outputId": "03cde896-8477-4e4a-cf51-8ecb7a20aa50"
      },
      "source": [
        "def SayHi():\n",
        "  return 'Hi!'\n",
        "\n",
        "SayHi()"
      ],
      "execution_count": 61,
      "outputs": [
        {
          "output_type": "execute_result",
          "data": {
            "application/vnd.google.colaboratory.intrinsic+json": {
              "type": "string"
            },
            "text/plain": [
              "'Hi!'"
            ]
          },
          "metadata": {},
          "execution_count": 61
        }
      ]
    },
    {
      "cell_type": "code",
      "metadata": {
        "id": "vutGIj1IaiFw"
      },
      "source": [
        "def callNameFunction(func):\n",
        "  def wrapper():\n",
        "    print('Calling {}'.format(func.__name__ ))\n",
        "    return func()\n",
        "\n",
        "  return wrapper"
      ],
      "execution_count": 62,
      "outputs": []
    },
    {
      "cell_type": "code",
      "metadata": {
        "id": "M7yhqy1-awWB",
        "colab": {
          "base_uri": "https://localhost:8080/"
        },
        "outputId": "f326e31b-6340-4d82-9a1a-9a9b995d8602"
      },
      "source": [
        "def SayHi():\n",
        "  return 'Hi!'\n",
        "\n",
        "w = callNameFunction(SayHi)\n",
        "print(w())"
      ],
      "execution_count": 63,
      "outputs": [
        {
          "output_type": "stream",
          "name": "stdout",
          "text": [
            "Calling SayHi\n",
            "Hi!\n"
          ]
        }
      ]
    },
    {
      "cell_type": "code",
      "metadata": {
        "id": "DRewUJboQxhD",
        "colab": {
          "base_uri": "https://localhost:8080/",
          "height": 74
        },
        "outputId": "81b7078a-fcce-4284-81c0-ec3bbc4031f3"
      },
      "source": [
        "# decorator\n",
        "\n",
        "@callNameFunction\n",
        "def SayHi():\n",
        "  return 'Hi!'\n",
        "\n",
        "SayHi()"
      ],
      "execution_count": 64,
      "outputs": [
        {
          "output_type": "stream",
          "name": "stdout",
          "text": [
            "Calling SayHi\n"
          ]
        },
        {
          "output_type": "execute_result",
          "data": {
            "application/vnd.google.colaboratory.intrinsic+json": {
              "type": "string"
            },
            "text/plain": [
              "'Hi!'"
            ]
          },
          "metadata": {},
          "execution_count": 64
        }
      ]
    }
  ]
}
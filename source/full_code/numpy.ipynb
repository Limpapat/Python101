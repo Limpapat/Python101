{
  "nbformat": 4,
  "nbformat_minor": 0,
  "metadata": {
    "colab": {
      "name": "numpy.ipynb",
      "provenance": [],
      "collapsed_sections": [],
      "authorship_tag": "ABX9TyNdtDA6Yv5FDVMqoE9QEZbf",
      "include_colab_link": true
    },
    "kernelspec": {
      "name": "python3",
      "display_name": "Python 3"
    },
    "language_info": {
      "name": "python"
    }
  },
  "cells": [
    {
      "cell_type": "markdown",
      "metadata": {
        "id": "view-in-github",
        "colab_type": "text"
      },
      "source": [
        "<a href=\"https://colab.research.google.com/github/Limpapat/Python101/blob/main/numpy.ipynb\" target=\"_parent\"><img src=\"https://colab.research.google.com/assets/colab-badge.svg\" alt=\"Open In Colab\"/></a>"
      ]
    },
    {
      "cell_type": "markdown",
      "metadata": {
        "id": "AbF8z-msnoBI"
      },
      "source": [
        "# Python 101 : NumPy : Work with Array\n",
        "by Limpapat Bussaban\n",
        "\n",
        "29/08/2021\n",
        "\n",
        "[NumPy] Numerical Python https://numpy.org \n",
        "\n",
        "[Datacamp] Cheat sheets http://datacamp-community-prod.s3.amazonaws.com/da466534-51fe-4c6d-b0cb-154f4782eb54"
      ]
    },
    {
      "cell_type": "code",
      "metadata": {
        "id": "APhIpRognl7l"
      },
      "source": [
        "import numpy as np"
      ],
      "execution_count": 1,
      "outputs": []
    },
    {
      "cell_type": "markdown",
      "metadata": {
        "id": "kRZWYNZ1tLFq"
      },
      "source": [
        "## Data Type in NumPy\n",
        "\n",
        "Read more: https://numpy.org/doc/stable/reference/arrays.dtypes.html \n",
        "\n",
        "```\n",
        "int     float     bool     string\n",
        "```"
      ]
    },
    {
      "cell_type": "code",
      "metadata": {
        "colab": {
          "base_uri": "https://localhost:8080/"
        },
        "id": "jc0_WVzTrfIh",
        "outputId": "a5dfb3c8-6fb0-4e03-e88c-fc292009e6d7"
      },
      "source": [
        "a = np.array([1,2,3])\n",
        "a.dtype"
      ],
      "execution_count": 2,
      "outputs": [
        {
          "output_type": "execute_result",
          "data": {
            "text/plain": [
              "dtype('int64')"
            ]
          },
          "metadata": {},
          "execution_count": 2
        }
      ]
    },
    {
      "cell_type": "markdown",
      "metadata": {
        "id": "n6mVeeLvtcKP"
      },
      "source": [
        "## Creating Arrays\n",
        "\n",
        "```\n",
        "np.array(sequence: list or tuple or range)\n",
        "```"
      ]
    },
    {
      "cell_type": "code",
      "metadata": {
        "colab": {
          "base_uri": "https://localhost:8080/"
        },
        "id": "aTC1oawt2Tvy",
        "outputId": "1cc77e50-f80b-4604-c093-d95b06ad4fae"
      },
      "source": [
        "a1 = np.array([1.,3,5])\n",
        "a2 = np.array(range(1,11))\n",
        "a3 = np.array(('a', 'b', 'c'))\n",
        "a4 = np.array([i for i in 'banana'])\n",
        "print(a1, a2, a3, a4, sep='\\n\\n')"
      ],
      "execution_count": 3,
      "outputs": [
        {
          "output_type": "stream",
          "name": "stdout",
          "text": [
            "[1. 3. 5.]\n",
            "\n",
            "[ 1  2  3  4  5  6  7  8  9 10]\n",
            "\n",
            "['a' 'b' 'c']\n",
            "\n",
            "['b' 'a' 'n' 'a' 'n' 'a']\n"
          ]
        }
      ]
    },
    {
      "cell_type": "code",
      "metadata": {
        "colab": {
          "base_uri": "https://localhost:8080/"
        },
        "id": "iWeeZn86U8_J",
        "outputId": "a6a5e1b2-d5f0-46cb-a251-7f1bd6f66672"
      },
      "source": [
        "a5 = np.array([1 ,-0.5 ,2 ,True])\n",
        "print(a5, '\\t\\t', a5.dtype)"
      ],
      "execution_count": 4,
      "outputs": [
        {
          "output_type": "stream",
          "name": "stdout",
          "text": [
            "[ 1.  -0.5  2.   1. ] \t\t float64\n"
          ]
        }
      ]
    },
    {
      "cell_type": "markdown",
      "metadata": {
        "id": "1rjXg3s13eWi"
      },
      "source": [
        "```\n",
        "np.dtype\n",
        "np.astype(type)\n",
        "```"
      ]
    },
    {
      "cell_type": "code",
      "metadata": {
        "colab": {
          "base_uri": "https://localhost:8080/"
        },
        "id": "UCGV0NQq3m2A",
        "outputId": "06054053-cf90-4616-96cc-5795260bc5fb"
      },
      "source": [
        "a5 = np.array([1, -0.5, 2, True], dtype=np.dtype(bool))\n",
        "print(a5, '\\t\\t', a5.dtype)"
      ],
      "execution_count": 5,
      "outputs": [
        {
          "output_type": "stream",
          "name": "stdout",
          "text": [
            "[ True  True  True  True] \t\t bool\n"
          ]
        }
      ]
    },
    {
      "cell_type": "code",
      "metadata": {
        "colab": {
          "base_uri": "https://localhost:8080/"
        },
        "id": "AU0knOQzV73A",
        "outputId": "6a3f8a9e-6944-4236-84b9-905c2f609610"
      },
      "source": [
        "a2 = a2.astype(float)\n",
        "print(a2, '\\t\\t', a2.dtype)"
      ],
      "execution_count": 6,
      "outputs": [
        {
          "output_type": "stream",
          "name": "stdout",
          "text": [
            "[ 1.  2.  3.  4.  5.  6.  7.  8.  9. 10.] \t\t float64\n"
          ]
        }
      ]
    },
    {
      "cell_type": "markdown",
      "metadata": {
        "id": "dd35uDuEWv8f"
      },
      "source": [
        "```\n",
        "np.zeros(size, dtype=None)\n",
        "np.ones(size, dtype=None)\n",
        "np.full(size, fill_value, dtype=None)\n",
        "```"
      ]
    },
    {
      "cell_type": "code",
      "metadata": {
        "colab": {
          "base_uri": "https://localhost:8080/"
        },
        "id": "kWriJva4XHma",
        "outputId": "73f51253-fe30-4dba-85d8-8cd493e7155f"
      },
      "source": [
        "np.full(10, 10)"
      ],
      "execution_count": 7,
      "outputs": [
        {
          "output_type": "execute_result",
          "data": {
            "text/plain": [
              "array([10, 10, 10, 10, 10, 10, 10, 10, 10, 10])"
            ]
          },
          "metadata": {},
          "execution_count": 7
        }
      ]
    },
    {
      "cell_type": "markdown",
      "metadata": {
        "id": "1UvJWnHHXwXQ"
      },
      "source": [
        "```\n",
        "np.arange([start,] stop, [step,] dtype=None)\n",
        "np.linspace(start, stop, num=50)\n",
        "```"
      ]
    },
    {
      "cell_type": "code",
      "metadata": {
        "colab": {
          "base_uri": "https://localhost:8080/"
        },
        "id": "Nr21GKgvX1RN",
        "outputId": "847a2a14-1c27-48a7-d9fc-1156f7cd8247"
      },
      "source": [
        "np.linspace(10, 12, num=10)"
      ],
      "execution_count": 8,
      "outputs": [
        {
          "output_type": "execute_result",
          "data": {
            "text/plain": [
              "array([10.        , 10.22222222, 10.44444444, 10.66666667, 10.88888889,\n",
              "       11.11111111, 11.33333333, 11.55555556, 11.77777778, 12.        ])"
            ]
          },
          "metadata": {},
          "execution_count": 8
        }
      ]
    },
    {
      "cell_type": "markdown",
      "metadata": {
        "id": "HmJxlT0uZm8h"
      },
      "source": [
        "```\n",
        "np.random.randint(low, high=None, size=None, dtype=int)\n",
        "np.random.uniform(low=0.0, high=1.0, size=None)\n",
        "np.random.rand(shape)\n",
        "np.random.randn(shape)\n",
        "np.random.choice(a, size=None, replace=True, p=None)\n",
        "```"
      ]
    },
    {
      "cell_type": "code",
      "metadata": {
        "colab": {
          "base_uri": "https://localhost:8080/"
        },
        "id": "iQ_XDLUJZ5rF",
        "outputId": "0f82463f-ff91-496b-d6b9-1cd7a73252b0"
      },
      "source": [
        "C = np.random.choice(['H', 'T'], size=1000, p=[0.5, 0.5])\n",
        "(C=='H').sum()"
      ],
      "execution_count": 9,
      "outputs": [
        {
          "output_type": "execute_result",
          "data": {
            "text/plain": [
              "504"
            ]
          },
          "metadata": {},
          "execution_count": 9
        }
      ]
    },
    {
      "cell_type": "markdown",
      "metadata": {
        "id": "BhJZporstj3z"
      },
      "source": [
        "## Indexing, Slicing & Filtering"
      ]
    },
    {
      "cell_type": "code",
      "metadata": {
        "id": "qOPvoDgOcwyp"
      },
      "source": [
        "a = np.array([7, 11, 101, 9999, 59, 25, -30, 112, 77, 634])"
      ],
      "execution_count": 10,
      "outputs": []
    },
    {
      "cell_type": "markdown",
      "metadata": {
        "id": "sfrmwZZ6c6cQ"
      },
      "source": [
        "```\n",
        "array a:     7     11     101     9999     59     25     -30     112     77     634\n",
        "+ index:     0      1       2        3      4      5       6       7      8       9\n",
        "- index:   -10     -9      -8       -7     -6     -5      -4      -3     -2      -1\n",
        "```"
      ]
    },
    {
      "cell_type": "code",
      "metadata": {
        "colab": {
          "base_uri": "https://localhost:8080/"
        },
        "id": "KUSjk50KeYun",
        "outputId": "5fb96c36-3388-44eb-e479-f101154d501e"
      },
      "source": [
        "print(a[0], a[-1])"
      ],
      "execution_count": 11,
      "outputs": [
        {
          "output_type": "stream",
          "name": "stdout",
          "text": [
            "7 634\n"
          ]
        }
      ]
    },
    {
      "cell_type": "markdown",
      "metadata": {
        "id": "P4y5qkHQehuK"
      },
      "source": [
        "```\n",
        "array[start : stop : step]\n",
        "```"
      ]
    },
    {
      "cell_type": "code",
      "metadata": {
        "colab": {
          "base_uri": "https://localhost:8080/"
        },
        "id": "r264EzQPfBU-",
        "outputId": "e53b4951-cf23-42c0-e393-866b6d042e65"
      },
      "source": [
        "a[0:-1:2]"
      ],
      "execution_count": 12,
      "outputs": [
        {
          "output_type": "execute_result",
          "data": {
            "text/plain": [
              "array([  7, 101,  59, -30,  77])"
            ]
          },
          "metadata": {},
          "execution_count": 12
        }
      ]
    },
    {
      "cell_type": "markdown",
      "metadata": {
        "id": "XXESPhZlfxl_"
      },
      "source": [
        "```\n",
        "array[index_set]\n",
        "```"
      ]
    },
    {
      "cell_type": "code",
      "metadata": {
        "colab": {
          "base_uri": "https://localhost:8080/"
        },
        "id": "XH0U31oogLuB",
        "outputId": "1e86e6c2-c821-49fc-85de-fb271802924b"
      },
      "source": [
        "idx = [2*i for i in range(5)]\n",
        "a[idx]"
      ],
      "execution_count": 13,
      "outputs": [
        {
          "output_type": "execute_result",
          "data": {
            "text/plain": [
              "array([  7, 101,  59, -30,  77])"
            ]
          },
          "metadata": {},
          "execution_count": 13
        }
      ]
    },
    {
      "cell_type": "markdown",
      "metadata": {
        "id": "w3librRbiDPC"
      },
      "source": [
        "```\n",
        "array[condition]\n",
        "```"
      ]
    },
    {
      "cell_type": "code",
      "metadata": {
        "colab": {
          "base_uri": "https://localhost:8080/"
        },
        "id": "_FnLtvKViG58",
        "outputId": "81362842-6ce4-45ec-ec7d-9c72d9e68f8f"
      },
      "source": [
        "a[a > 100]"
      ],
      "execution_count": 14,
      "outputs": [
        {
          "output_type": "execute_result",
          "data": {
            "text/plain": [
              "array([ 101, 9999,  112,  634])"
            ]
          },
          "metadata": {},
          "execution_count": 14
        }
      ]
    },
    {
      "cell_type": "markdown",
      "metadata": {
        "id": "CYJJnYagtxns"
      },
      "source": [
        "## Math Operators\n",
        "\n",
        "```\n",
        "  + - * / % ** //\n",
        "  == != <> > < >= <=\n",
        "```"
      ]
    },
    {
      "cell_type": "code",
      "metadata": {
        "colab": {
          "base_uri": "https://localhost:8080/"
        },
        "id": "f8YU_P0rleEm",
        "outputId": "e03c0927-f1db-45d0-b27b-7a8a08a591ba"
      },
      "source": [
        "a, b = np.array([1,2]), np.array([3,4])\n",
        "a+b"
      ],
      "execution_count": 15,
      "outputs": [
        {
          "output_type": "execute_result",
          "data": {
            "text/plain": [
              "array([4, 6])"
            ]
          },
          "metadata": {},
          "execution_count": 15
        }
      ]
    },
    {
      "cell_type": "code",
      "metadata": {
        "colab": {
          "base_uri": "https://localhost:8080/"
        },
        "id": "6wrSTn7hlnyv",
        "outputId": "e2a34919-c720-4e95-f704-65c600be6745"
      },
      "source": [
        "a + 2 # broadcasting -> https://scipy-lectures.org/_images/numpy_broadcasting.png"
      ],
      "execution_count": 16,
      "outputs": [
        {
          "output_type": "execute_result",
          "data": {
            "text/plain": [
              "array([3, 4])"
            ]
          },
          "metadata": {},
          "execution_count": 16
        }
      ]
    },
    {
      "cell_type": "code",
      "metadata": {
        "colab": {
          "base_uri": "https://localhost:8080/"
        },
        "id": "fZ12JlDOmDfB",
        "outputId": "3fc12855-209a-4797-e203-de0d2f3718f6"
      },
      "source": [
        "b==1"
      ],
      "execution_count": 17,
      "outputs": [
        {
          "output_type": "execute_result",
          "data": {
            "text/plain": [
              "array([False, False])"
            ]
          },
          "metadata": {},
          "execution_count": 17
        }
      ]
    },
    {
      "cell_type": "markdown",
      "metadata": {
        "id": "778Ynle5t014"
      },
      "source": [
        "## 2D Arrays"
      ]
    },
    {
      "cell_type": "code",
      "metadata": {
        "id": "YLNL3gLGmycT"
      },
      "source": [
        "a = np.array([[1,2,3], [4,5,6], [7,8,9]])"
      ],
      "execution_count": 18,
      "outputs": []
    },
    {
      "cell_type": "markdown",
      "metadata": {
        "id": "93PuHsDAm5J9"
      },
      "source": [
        "```\n",
        "          column\n",
        "        0  1  2\n",
        "    0 [[1, 2, 3], \n",
        "row 1  [3, 5, 6], \n",
        "    2  [7, 8, 9]]\n",
        "```\n",
        "\n",
        "```\n",
        "array[row, col]\n",
        "array[start:stop:step, start:stop:step]\n",
        "```"
      ]
    },
    {
      "cell_type": "code",
      "metadata": {
        "id": "NaiTKamAnf-M"
      },
      "source": [
        "# indexing as same 1D"
      ],
      "execution_count": 19,
      "outputs": []
    },
    {
      "cell_type": "markdown",
      "metadata": {
        "id": "UovSDtEFtOSq"
      },
      "source": [
        "```\n",
        "ndim\n",
        "shape\n",
        "size\n",
        "```"
      ]
    },
    {
      "cell_type": "code",
      "metadata": {
        "colab": {
          "base_uri": "https://localhost:8080/"
        },
        "id": "Z2Qol5TVtP8Z",
        "outputId": "84079cc8-0c39-4dad-e100-b35f96c1c7a2"
      },
      "source": [
        "print(f'ndim: {a.ndim}, shape: {a.shape}, size: {a.size}')"
      ],
      "execution_count": 20,
      "outputs": [
        {
          "output_type": "stream",
          "name": "stdout",
          "text": [
            "ndim: 2, shape: (3, 3), size: 9\n"
          ]
        }
      ]
    },
    {
      "cell_type": "markdown",
      "metadata": {
        "id": "e_Vpxj6XtBjt"
      },
      "source": [
        "```\n",
        "view()       # shallow copy\n",
        "copy()       # deep copy\n",
        "```"
      ]
    },
    {
      "cell_type": "code",
      "metadata": {
        "colab": {
          "base_uri": "https://localhost:8080/"
        },
        "id": "uOrlGo3UtMPh",
        "outputId": "a41c9a42-01bd-4fb8-d783-d58c3a22a76a"
      },
      "source": [
        "b = a.view()\n",
        "c = a.copy()\n",
        "print('---Before---', b, c, sep='\\n\\n')\n",
        "print('\\n')\n",
        "a[0] = [-3, -2, -1]\n",
        "print('---After---', b, c, sep='\\n\\n')"
      ],
      "execution_count": 21,
      "outputs": [
        {
          "output_type": "stream",
          "name": "stdout",
          "text": [
            "---Before---\n",
            "\n",
            "[[1 2 3]\n",
            " [4 5 6]\n",
            " [7 8 9]]\n",
            "\n",
            "[[1 2 3]\n",
            " [4 5 6]\n",
            " [7 8 9]]\n",
            "\n",
            "\n",
            "---After---\n",
            "\n",
            "[[-3 -2 -1]\n",
            " [ 4  5  6]\n",
            " [ 7  8  9]]\n",
            "\n",
            "[[1 2 3]\n",
            " [4 5 6]\n",
            " [7 8 9]]\n"
          ]
        }
      ]
    },
    {
      "cell_type": "markdown",
      "metadata": {
        "id": "7bGdSCQope1c"
      },
      "source": [
        "```\n",
        "np.reshape()    # shallow copy\n",
        "np.resize()     # deep copy\n",
        "```"
      ]
    },
    {
      "cell_type": "code",
      "metadata": {
        "colab": {
          "base_uri": "https://localhost:8080/"
        },
        "id": "Zcrz8ypOrH2F",
        "outputId": "578ec3f1-f992-463b-af47-9b8b259bda26"
      },
      "source": [
        "a = np.array([[1,2,3], [4,5,6], [7,8,9]])\n",
        "b = np.reshape(a, (1,-1))\n",
        "c = np.resize(a, (1,9))\n",
        "print('---Before---', b, c, sep='\\n\\n')\n",
        "print('\\n')\n",
        "a[0] = [-3, -2, -1]\n",
        "print('---After---', b, c, sep='\\n\\n')"
      ],
      "execution_count": 22,
      "outputs": [
        {
          "output_type": "stream",
          "name": "stdout",
          "text": [
            "---Before---\n",
            "\n",
            "[[1 2 3 4 5 6 7 8 9]]\n",
            "\n",
            "[[1 2 3 4 5 6 7 8 9]]\n",
            "\n",
            "\n",
            "---After---\n",
            "\n",
            "[[-3 -2 -1  4  5  6  7  8  9]]\n",
            "\n",
            "[[1 2 3 4 5 6 7 8 9]]\n"
          ]
        }
      ]
    },
    {
      "cell_type": "code",
      "metadata": {
        "colab": {
          "base_uri": "https://localhost:8080/"
        },
        "id": "A2MUVkqrv04k",
        "outputId": "0f99d87f-d169-4b95-8a43-2eba1e55d539"
      },
      "source": [
        "# Tips\n",
        "a = np.array([[1,2,3], [4,5,6], [7,8,9]])\n",
        "b = a.reshape(-1)\n",
        "print(b)\n",
        "b = a.flatten() # equal to .reshape(-1)\n",
        "print(b)"
      ],
      "execution_count": 23,
      "outputs": [
        {
          "output_type": "stream",
          "name": "stdout",
          "text": [
            "[1 2 3 4 5 6 7 8 9]\n",
            "[1 2 3 4 5 6 7 8 9]\n"
          ]
        }
      ]
    },
    {
      "cell_type": "code",
      "metadata": {
        "colab": {
          "base_uri": "https://localhost:8080/"
        },
        "id": "h4cCknlGwtiT",
        "outputId": "df4241a8-906e-4c6a-a9f0-60bc2f103939"
      },
      "source": [
        "# Warning!\n",
        "a = np.array([[1,2,3], [4,5,6], [7,8,9]])\n",
        "b = a.reshape(1,-1)\n",
        "c = a.resize(1,9)\n",
        "print(b, c, sep='\\n\\n')"
      ],
      "execution_count": 24,
      "outputs": [
        {
          "output_type": "stream",
          "name": "stdout",
          "text": [
            "[[1 2 3 4 5 6 7 8 9]]\n",
            "\n",
            "None\n"
          ]
        }
      ]
    },
    {
      "cell_type": "markdown",
      "metadata": {
        "id": "L69bMIu_t6wS"
      },
      "source": [
        "## Basic functions in NumPy arrays\n",
        "\n",
        "```\n",
        "sum()\n",
        "cumsum()\n",
        "min(), max()\n",
        "mean()\n",
        "```"
      ]
    },
    {
      "cell_type": "code",
      "metadata": {
        "colab": {
          "base_uri": "https://localhost:8080/"
        },
        "id": "5c-3YaB3xejI",
        "outputId": "59e5e0cb-bf33-4ef4-f36b-7009a4d75399"
      },
      "source": [
        "print(' sum: {} \\n\\n cunsum: {} \\n\\n min: {} \\n\\n max: {} \\n\\n mean: {}'.format(a.sum(), \n",
        "                                                                                a.cumsum(), \n",
        "                                                                                a.min(), \n",
        "                                                                                a.max(), \n",
        "                                                                                a.mean()))"
      ],
      "execution_count": 25,
      "outputs": [
        {
          "output_type": "stream",
          "name": "stdout",
          "text": [
            " sum: 45 \n",
            "\n",
            " cunsum: [ 1  3  6 10 15 21 28 36 45] \n",
            "\n",
            " min: 1 \n",
            "\n",
            " max: 9 \n",
            "\n",
            " mean: 5.0\n"
          ]
        }
      ]
    },
    {
      "cell_type": "markdown",
      "metadata": {
        "id": "Amd27MDr5YA6"
      },
      "source": [
        "```\n",
        "np.sort()\n",
        "np.unique()\n",
        "```"
      ]
    },
    {
      "cell_type": "code",
      "metadata": {
        "colab": {
          "base_uri": "https://localhost:8080/"
        },
        "id": "ixsJPsjCzUfm",
        "outputId": "ee35998a-9310-47c1-d61a-8db698f80ee0"
      },
      "source": [
        "a = np.array([7, 11, 101, 77, 59, 25, -30, 112, 77, 634])\n",
        "print(' a: \\t\\t {} \\n\\n sort: \\t\\t {} \\n\\n unique: \\t {}'.format(a, np.sort(a), np.unique(a)))"
      ],
      "execution_count": 26,
      "outputs": [
        {
          "output_type": "stream",
          "name": "stdout",
          "text": [
            " a: \t\t [  7  11 101  77  59  25 -30 112  77 634] \n",
            "\n",
            " sort: \t\t [-30   7  11  25  59  77  77 101 112 634] \n",
            "\n",
            " unique: \t [-30   7  11  25  59  77 101 112 634]\n"
          ]
        }
      ]
    },
    {
      "cell_type": "code",
      "metadata": {
        "colab": {
          "base_uri": "https://localhost:8080/"
        },
        "id": "fRkxuOlGxgF5",
        "outputId": "353fdb66-621b-493a-d81e-be1f55723db6"
      },
      "source": [
        "# Tips\n",
        "a = np.array([[7, 11, 101, 77, 59], \n",
        "              [25, -30, 112, 77, 634]])\n",
        "print(' a: \\n{} \\n\\n sort: \\n{} \\n\\n unique: \\n{}'.format(a, np.sort(a), np.unique(a)))"
      ],
      "execution_count": 27,
      "outputs": [
        {
          "output_type": "stream",
          "name": "stdout",
          "text": [
            " a: \n",
            "[[  7  11 101  77  59]\n",
            " [ 25 -30 112  77 634]] \n",
            "\n",
            " sort: \n",
            "[[  7  11  59  77 101]\n",
            " [-30  25  77 112 634]] \n",
            "\n",
            " unique: \n",
            "[-30   7  11  25  59  77 101 112 634]\n"
          ]
        }
      ]
    },
    {
      "cell_type": "code",
      "metadata": {
        "colab": {
          "base_uri": "https://localhost:8080/"
        },
        "id": "O4gB8NiQy7yd",
        "outputId": "d14038c6-a5ac-4547-af50-023faee4f42b"
      },
      "source": [
        "np.sort(a,axis=0)"
      ],
      "execution_count": 28,
      "outputs": [
        {
          "output_type": "execute_result",
          "data": {
            "text/plain": [
              "array([[  7, -30, 101,  77,  59],\n",
              "       [ 25,  11, 112,  77, 634]])"
            ]
          },
          "metadata": {},
          "execution_count": 28
        }
      ]
    },
    {
      "cell_type": "markdown",
      "metadata": {
        "id": "sFtmMBqB566_"
      },
      "source": [
        "```\n",
        "np.concatenate((a1, a2, ...), axis=0)\n",
        "np.vstack(tuple)\n",
        "np.hstack(tuple)\n",
        "```"
      ]
    },
    {
      "cell_type": "code",
      "metadata": {
        "colab": {
          "base_uri": "https://localhost:8080/"
        },
        "id": "4xfsXzLJ4A0H",
        "outputId": "b1bfd9f7-f088-414f-eeb0-89cce09e9c52"
      },
      "source": [
        "a = np.array([[1, 2], [3, 4]])\n",
        "b = np.array([[.4, .3],[.2, .1]])\n",
        "\n",
        "c1 = np.concatenate((a,b))\n",
        "c2 = np.concatenate((a,b), axis=1)\n",
        "print(a, b, c1, c2, sep='\\n\\n')"
      ],
      "execution_count": 29,
      "outputs": [
        {
          "output_type": "stream",
          "name": "stdout",
          "text": [
            "[[1 2]\n",
            " [3 4]]\n",
            "\n",
            "[[0.4 0.3]\n",
            " [0.2 0.1]]\n",
            "\n",
            "[[1.  2. ]\n",
            " [3.  4. ]\n",
            " [0.4 0.3]\n",
            " [0.2 0.1]]\n",
            "\n",
            "[[1.  2.  0.4 0.3]\n",
            " [3.  4.  0.2 0.1]]\n"
          ]
        }
      ]
    },
    {
      "cell_type": "code",
      "metadata": {
        "id": "azYbtBGV6ibm"
      },
      "source": [
        "# a = np.random.rand(10,10,3)\n",
        "# b = np.random.rand(10,10,3)\n",
        "# x = np.empty((20,10,3))\n",
        "# c = np.concatenate((a,b), out=x)\n",
        "# d = np.concatenate((a,b), axis=0)\n",
        "# c.shape, d.shape"
      ],
      "execution_count": 30,
      "outputs": []
    },
    {
      "cell_type": "code",
      "metadata": {
        "colab": {
          "base_uri": "https://localhost:8080/"
        },
        "id": "HpkX9MQV7XyP",
        "outputId": "3887e2eb-bb7a-4e21-dbbc-c06503c1a721"
      },
      "source": [
        "v = np.vstack((a,b))\n",
        "h = np.hstack((a,b))\n",
        "print(a, b, v, h, sep='\\n\\n')"
      ],
      "execution_count": 31,
      "outputs": [
        {
          "output_type": "stream",
          "name": "stdout",
          "text": [
            "[[1 2]\n",
            " [3 4]]\n",
            "\n",
            "[[0.4 0.3]\n",
            " [0.2 0.1]]\n",
            "\n",
            "[[1.  2. ]\n",
            " [3.  4. ]\n",
            " [0.4 0.3]\n",
            " [0.2 0.1]]\n",
            "\n",
            "[[1.  2.  0.4 0.3]\n",
            " [3.  4.  0.2 0.1]]\n"
          ]
        }
      ]
    },
    {
      "cell_type": "markdown",
      "metadata": {
        "id": "yCTXzTjy-5Li"
      },
      "source": [
        "```\n",
        "np.split(array, indices_or_sections, axis=0)\n",
        "np.vsplit(array, indices_or_sections)\n",
        "np.hsplit(array, indices_or_sections)\n",
        "```"
      ]
    },
    {
      "cell_type": "code",
      "metadata": {
        "colab": {
          "base_uri": "https://localhost:8080/"
        },
        "id": "8tDnls-e9Xum",
        "outputId": "4a98cf1e-94cb-4874-bf1b-7c35aeff651c"
      },
      "source": [
        "print(np.split(v, 2), np.split(v, 4), sep='\\n\\n')"
      ],
      "execution_count": 32,
      "outputs": [
        {
          "output_type": "stream",
          "name": "stdout",
          "text": [
            "[array([[1., 2.],\n",
            "       [3., 4.]]), array([[0.4, 0.3],\n",
            "       [0.2, 0.1]])]\n",
            "\n",
            "[array([[1., 2.]]), array([[3., 4.]]), array([[0.4, 0.3]]), array([[0.2, 0.1]])]\n"
          ]
        }
      ]
    },
    {
      "cell_type": "code",
      "metadata": {
        "colab": {
          "base_uri": "https://localhost:8080/"
        },
        "id": "r3wxClFF_wFf",
        "outputId": "99e762cd-eb1e-4772-ce6b-ecbc11e32ae0"
      },
      "source": [
        "np.vsplit(v,2)"
      ],
      "execution_count": 33,
      "outputs": [
        {
          "output_type": "execute_result",
          "data": {
            "text/plain": [
              "[array([[1., 2.],\n",
              "        [3., 4.]]), array([[0.4, 0.3],\n",
              "        [0.2, 0.1]])]"
            ]
          },
          "metadata": {},
          "execution_count": 33
        }
      ]
    },
    {
      "cell_type": "code",
      "metadata": {
        "colab": {
          "base_uri": "https://localhost:8080/"
        },
        "id": "vkEo7O2vA1xA",
        "outputId": "b56c72b7-d418-4572-a811-aa1c3c10355f"
      },
      "source": [
        "np.hsplit(v,2)"
      ],
      "execution_count": 34,
      "outputs": [
        {
          "output_type": "execute_result",
          "data": {
            "text/plain": [
              "[array([[1. ],\n",
              "        [3. ],\n",
              "        [0.4],\n",
              "        [0.2]]), array([[2. ],\n",
              "        [4. ],\n",
              "        [0.3],\n",
              "        [0.1]])]"
            ]
          },
          "metadata": {},
          "execution_count": 34
        }
      ]
    },
    {
      "cell_type": "code",
      "metadata": {
        "colab": {
          "base_uri": "https://localhost:8080/"
        },
        "id": "WgBbO1TcA6HZ",
        "outputId": "551574b6-119e-4218-ba5e-6c0ed2c53912"
      },
      "source": [
        "x = np.arange(1, 37).reshape(6,6)\n",
        "x"
      ],
      "execution_count": 35,
      "outputs": [
        {
          "output_type": "execute_result",
          "data": {
            "text/plain": [
              "array([[ 1,  2,  3,  4,  5,  6],\n",
              "       [ 7,  8,  9, 10, 11, 12],\n",
              "       [13, 14, 15, 16, 17, 18],\n",
              "       [19, 20, 21, 22, 23, 24],\n",
              "       [25, 26, 27, 28, 29, 30],\n",
              "       [31, 32, 33, 34, 35, 36]])"
            ]
          },
          "metadata": {},
          "execution_count": 35
        }
      ]
    },
    {
      "cell_type": "code",
      "metadata": {
        "colab": {
          "base_uri": "https://localhost:8080/"
        },
        "id": "G51gSTv1BPQ9",
        "outputId": "40d0a73c-42cc-4b53-8ad0-af00726f5fbb"
      },
      "source": [
        "np.split(x, [1, 2, 5, 9])"
      ],
      "execution_count": 36,
      "outputs": [
        {
          "output_type": "execute_result",
          "data": {
            "text/plain": [
              "[array([[1, 2, 3, 4, 5, 6]]),\n",
              " array([[ 7,  8,  9, 10, 11, 12]]),\n",
              " array([[13, 14, 15, 16, 17, 18],\n",
              "        [19, 20, 21, 22, 23, 24],\n",
              "        [25, 26, 27, 28, 29, 30]]),\n",
              " array([[31, 32, 33, 34, 35, 36]]),\n",
              " array([], shape=(0, 6), dtype=int64)]"
            ]
          },
          "metadata": {},
          "execution_count": 36
        }
      ]
    }
  ]
}
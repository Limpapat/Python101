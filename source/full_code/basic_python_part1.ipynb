{
  "nbformat": 4,
  "nbformat_minor": 0,
  "metadata": {
    "colab": {
      "name": "basic_python_part1.ipynb",
      "provenance": [],
      "collapsed_sections": [],
      "toc_visible": true,
      "include_colab_link": true
    },
    "kernelspec": {
      "name": "python3",
      "display_name": "Python 3"
    }
  },
  "cells": [
    {
      "cell_type": "markdown",
      "metadata": {
        "id": "view-in-github",
        "colab_type": "text"
      },
      "source": [
        "<a href=\"https://colab.research.google.com/github/Limpapat/Python101/blob/main/basic_python_part1.ipynb\" target=\"_parent\"><img src=\"https://colab.research.google.com/assets/colab-badge.svg\" alt=\"Open In Colab\"/></a>"
      ]
    },
    {
      "cell_type": "markdown",
      "metadata": {
        "id": "cF3ug9_ldwkm"
      },
      "source": [
        "# Python 101 : Basic Python Programming [Part 1]\n",
        "by Limpapat Bussaban\n",
        "\n",
        "22/08/2021\n",
        "\n",
        "[datacamp] Cheat sheets http://datacamp-community-prod.s3.amazonaws.com/0eff0330-e87d-4c34-88d5-73e80cb955f2"
      ]
    },
    {
      "cell_type": "markdown",
      "metadata": {
        "id": "GFXXoNlpz16a"
      },
      "source": [
        "## Variables\n",
        "\n",
        "\n",
        "```\n",
        "variable = expression\n",
        "```\n",
        "\n",
        "Variable type\n",
        "```\n",
        "number --> int float\n",
        "string\n",
        "boolean\n",
        "```\n",
        "\n",
        "Keywords based on Python version 3.7\n",
        "```\n",
        "False      await      else       import     pass\n",
        "None       break      except     in         raise\n",
        "True       class      finally    is         return\n",
        "and        continue   for        lambda     try\n",
        "as         def        from       nonlocal   while\n",
        "assert     del        global     not        with\n",
        "async      elif       if         or         yield\n",
        "```\n"
      ]
    },
    {
      "cell_type": "code",
      "metadata": {
        "id": "tMD8rjsHWON5",
        "colab": {
          "base_uri": "https://localhost:8080/"
        },
        "outputId": "3e31f429-265e-4915-87cb-e171900e2c7d"
      },
      "source": [
        "# Int\n",
        "a = 1\n",
        "a"
      ],
      "execution_count": 1,
      "outputs": [
        {
          "output_type": "execute_result",
          "data": {
            "text/plain": [
              "1"
            ]
          },
          "metadata": {},
          "execution_count": 1
        }
      ]
    },
    {
      "cell_type": "code",
      "metadata": {
        "id": "4bovsaOLw5Gr",
        "colab": {
          "base_uri": "https://localhost:8080/"
        },
        "outputId": "588cd8ea-f36e-4b2e-9b8a-f412e9d57e7a"
      },
      "source": [
        "# This is comment\n",
        "a = 1\n",
        "(float(a) - 1)*99"
      ],
      "execution_count": 2,
      "outputs": [
        {
          "output_type": "execute_result",
          "data": {
            "text/plain": [
              "0.0"
            ]
          },
          "metadata": {},
          "execution_count": 2
        }
      ]
    },
    {
      "cell_type": "code",
      "metadata": {
        "id": "91G6iFPEWnc5",
        "colab": {
          "base_uri": "https://localhost:8080/"
        },
        "outputId": "dae5261b-e3d9-4b46-d34d-7ef3cb03b53b"
      },
      "source": [
        "# Float\n",
        "float(a)"
      ],
      "execution_count": 3,
      "outputs": [
        {
          "output_type": "execute_result",
          "data": {
            "text/plain": [
              "1.0"
            ]
          },
          "metadata": {},
          "execution_count": 3
        }
      ]
    },
    {
      "cell_type": "code",
      "metadata": {
        "id": "reCYBrjSW-WZ",
        "colab": {
          "base_uri": "https://localhost:8080/",
          "height": 58
        },
        "outputId": "31540699-70e0-425e-e0ad-97fdd39e2018"
      },
      "source": [
        "# String\n",
        "str(a)"
      ],
      "execution_count": 4,
      "outputs": [
        {
          "output_type": "execute_result",
          "data": {
            "application/vnd.google.colaboratory.intrinsic+json": {
              "type": "string"
            },
            "text/plain": [
              "'1'"
            ]
          },
          "metadata": {},
          "execution_count": 4
        }
      ]
    },
    {
      "cell_type": "code",
      "metadata": {
        "id": "TopGFHnV_oqA",
        "colab": {
          "base_uri": "https://localhost:8080/",
          "height": 58
        },
        "outputId": "0b0c8461-2f65-410b-905c-e42c829d694d"
      },
      "source": [
        "str(a) + \"1\""
      ],
      "execution_count": 5,
      "outputs": [
        {
          "output_type": "execute_result",
          "data": {
            "application/vnd.google.colaboratory.intrinsic+json": {
              "type": "string"
            },
            "text/plain": [
              "'11'"
            ]
          },
          "metadata": {},
          "execution_count": 5
        }
      ]
    },
    {
      "cell_type": "code",
      "metadata": {
        "id": "w8Zv3DPAZUt3",
        "colab": {
          "base_uri": "https://localhost:8080/"
        },
        "outputId": "30e69959-c53d-421f-b919-c2bdd97ef00c"
      },
      "source": [
        "bool(a)"
      ],
      "execution_count": 6,
      "outputs": [
        {
          "output_type": "execute_result",
          "data": {
            "text/plain": [
              "True"
            ]
          },
          "metadata": {},
          "execution_count": 6
        }
      ]
    },
    {
      "cell_type": "code",
      "metadata": {
        "id": "Zn5_2PblJ7DJ",
        "colab": {
          "base_uri": "https://localhost:8080/"
        },
        "outputId": "dff2c86a-935c-4977-82ad-ec0327980f72"
      },
      "source": [
        "bool(None)"
      ],
      "execution_count": 7,
      "outputs": [
        {
          "output_type": "execute_result",
          "data": {
            "text/plain": [
              "False"
            ]
          },
          "metadata": {},
          "execution_count": 7
        }
      ]
    },
    {
      "cell_type": "code",
      "metadata": {
        "id": "gUCKSUJmZeNS",
        "colab": {
          "base_uri": "https://localhost:8080/"
        },
        "outputId": "94745146-d916-4d26-8810-aeef3aa4f68f"
      },
      "source": [
        "type(a)"
      ],
      "execution_count": 8,
      "outputs": [
        {
          "output_type": "execute_result",
          "data": {
            "text/plain": [
              "int"
            ]
          },
          "metadata": {},
          "execution_count": 8
        }
      ]
    },
    {
      "cell_type": "code",
      "metadata": {
        "id": "myq5TcAWe7ZP",
        "colab": {
          "base_uri": "https://localhost:8080/",
          "height": 58
        },
        "outputId": "690e281c-740c-42ad-fd6a-a02ab75766bc"
      },
      "source": [
        "b = \"Python!\"\n",
        "b"
      ],
      "execution_count": 9,
      "outputs": [
        {
          "output_type": "execute_result",
          "data": {
            "application/vnd.google.colaboratory.intrinsic+json": {
              "type": "string"
            },
            "text/plain": [
              "'Python!'"
            ]
          },
          "metadata": {},
          "execution_count": 9
        }
      ]
    },
    {
      "cell_type": "markdown",
      "metadata": {
        "id": "v7qySGBL4t47"
      },
      "source": [
        "### Basic operators\n",
        "* Arithmetic Operators\n",
        "```\n",
        "  + - * / % ** //\n",
        "```\n",
        "* Comparison (Relational) Operators\n",
        "```\n",
        "== != <> > < >= <=\n",
        "```\n",
        "* Assignment Operators\n",
        "```\n",
        "= += -= *= /= %= **= //=\n",
        "```\n",
        "* Logical Operators\n",
        "```\n",
        "and or not\n",
        "```\n",
        "* Bitwise Operators\n",
        "```\n",
        "& | ^ ~ << >>\n",
        "```\n",
        "* Membership Operators\n",
        "```\n",
        "in, not in\n",
        "```\n",
        "* Identity Operators\n",
        "```\n",
        "is, is not\n",
        "```"
      ]
    },
    {
      "cell_type": "markdown",
      "metadata": {
        "id": "_jGLwZ_5a5GA"
      },
      "source": [
        "## Collections"
      ]
    },
    {
      "cell_type": "markdown",
      "metadata": {
        "id": "3ZyIaJomrYPJ"
      },
      "source": [
        "### String"
      ]
    },
    {
      "cell_type": "code",
      "metadata": {
        "id": "PwkD2_FxrXjm"
      },
      "source": [
        "sentence = \" Hello Corgi. I am hungry. \""
      ],
      "execution_count": 10,
      "outputs": []
    },
    {
      "cell_type": "code",
      "metadata": {
        "id": "iHraaCCo3wOZ",
        "colab": {
          "base_uri": "https://localhost:8080/"
        },
        "outputId": "71df636a-118c-4e5c-db44-c1f3510e4119"
      },
      "source": [
        "len(sentence)"
      ],
      "execution_count": 11,
      "outputs": [
        {
          "output_type": "execute_result",
          "data": {
            "text/plain": [
              "27"
            ]
          },
          "metadata": {},
          "execution_count": 11
        }
      ]
    },
    {
      "cell_type": "code",
      "metadata": {
        "id": "OfSs6-_Xr7Nn",
        "colab": {
          "base_uri": "https://localhost:8080/",
          "height": 58
        },
        "outputId": "9365bd1c-ea1c-47f0-df0f-ed81733681fd"
      },
      "source": [
        "sentence[1]"
      ],
      "execution_count": 12,
      "outputs": [
        {
          "output_type": "execute_result",
          "data": {
            "application/vnd.google.colaboratory.intrinsic+json": {
              "type": "string"
            },
            "text/plain": [
              "'H'"
            ]
          },
          "metadata": {},
          "execution_count": 12
        }
      ]
    },
    {
      "cell_type": "code",
      "metadata": {
        "id": "9-o4xocQ5she",
        "colab": {
          "base_uri": "https://localhost:8080/",
          "height": 58
        },
        "outputId": "ffe11393-3c74-4f1b-ba44-3182ace99652"
      },
      "source": [
        "sentence[1:12]"
      ],
      "execution_count": 13,
      "outputs": [
        {
          "output_type": "execute_result",
          "data": {
            "application/vnd.google.colaboratory.intrinsic+json": {
              "type": "string"
            },
            "text/plain": [
              "'Hello Corgi'"
            ]
          },
          "metadata": {},
          "execution_count": 13
        }
      ]
    },
    {
      "cell_type": "code",
      "metadata": {
        "id": "nxSxmQcyrmQQ",
        "colab": {
          "base_uri": "https://localhost:8080/",
          "height": 58
        },
        "outputId": "38a5d6ae-7680-47da-f9dd-cd1eccd64f62"
      },
      "source": [
        "sentence.strip()"
      ],
      "execution_count": 14,
      "outputs": [
        {
          "output_type": "execute_result",
          "data": {
            "application/vnd.google.colaboratory.intrinsic+json": {
              "type": "string"
            },
            "text/plain": [
              "'Hello Corgi. I am hungry.'"
            ]
          },
          "metadata": {},
          "execution_count": 14
        }
      ]
    },
    {
      "cell_type": "code",
      "metadata": {
        "id": "-a6IbCxw3zA8",
        "colab": {
          "base_uri": "https://localhost:8080/"
        },
        "outputId": "1b98ce90-710b-4504-cd47-aa9251e55172"
      },
      "source": [
        "len(sentence.strip())"
      ],
      "execution_count": 15,
      "outputs": [
        {
          "output_type": "execute_result",
          "data": {
            "text/plain": [
              "25"
            ]
          },
          "metadata": {},
          "execution_count": 15
        }
      ]
    },
    {
      "cell_type": "code",
      "metadata": {
        "id": "r1I9hlv6r4FB",
        "colab": {
          "base_uri": "https://localhost:8080/"
        },
        "outputId": "5b0f987e-ebea-401d-ebc7-9a1e82e9799e"
      },
      "source": [
        "sentence.strip().split(' ')"
      ],
      "execution_count": 16,
      "outputs": [
        {
          "output_type": "execute_result",
          "data": {
            "text/plain": [
              "['Hello', 'Corgi.', 'I', 'am', 'hungry.']"
            ]
          },
          "metadata": {},
          "execution_count": 16
        }
      ]
    },
    {
      "cell_type": "code",
      "metadata": {
        "id": "BdxmLMEuqv2j",
        "colab": {
          "base_uri": "https://localhost:8080/",
          "height": 58
        },
        "outputId": "90544c1a-56e5-4d28-9893-f2f201d42b82"
      },
      "source": [
        "ss = ' '.join(sentence.strip().split(' '))\n",
        "ss"
      ],
      "execution_count": 17,
      "outputs": [
        {
          "output_type": "execute_result",
          "data": {
            "application/vnd.google.colaboratory.intrinsic+json": {
              "type": "string"
            },
            "text/plain": [
              "'Hello Corgi. I am hungry.'"
            ]
          },
          "metadata": {},
          "execution_count": 17
        }
      ]
    },
    {
      "cell_type": "markdown",
      "metadata": {
        "id": "4SeTYcMBqLjD"
      },
      "source": [
        "### List\n",
        "\n",
        "```\n",
        "list = [...]\n",
        "```"
      ]
    },
    {
      "cell_type": "code",
      "metadata": {
        "id": "4YcpeyeUbGca",
        "colab": {
          "base_uri": "https://localhost:8080/"
        },
        "outputId": "1eb79913-62a7-4f18-c5cb-f74f835818a5"
      },
      "source": [
        "l = [b, a, a - 1, a]\n",
        "l"
      ],
      "execution_count": 18,
      "outputs": [
        {
          "output_type": "execute_result",
          "data": {
            "text/plain": [
              "['Python!', 1, 0, 1]"
            ]
          },
          "metadata": {},
          "execution_count": 18
        }
      ]
    },
    {
      "cell_type": "code",
      "metadata": {
        "id": "h5tpLduMfpIY",
        "colab": {
          "base_uri": "https://localhost:8080/"
        },
        "outputId": "fab3ea82-9565-4a58-ee1d-883dc58fe951"
      },
      "source": [
        "len(l)"
      ],
      "execution_count": 19,
      "outputs": [
        {
          "output_type": "execute_result",
          "data": {
            "text/plain": [
              "4"
            ]
          },
          "metadata": {},
          "execution_count": 19
        }
      ]
    },
    {
      "cell_type": "code",
      "metadata": {
        "id": "P_7Esctef3G5",
        "colab": {
          "base_uri": "https://localhost:8080/"
        },
        "outputId": "80f27882-2a8a-4de7-b924-a26d6dad2875"
      },
      "source": [
        "l[3] = 0\n",
        "l"
      ],
      "execution_count": 20,
      "outputs": [
        {
          "output_type": "execute_result",
          "data": {
            "text/plain": [
              "['Python!', 1, 0, 0]"
            ]
          },
          "metadata": {},
          "execution_count": 20
        }
      ]
    },
    {
      "cell_type": "code",
      "metadata": {
        "id": "VyVzFzgLCmGr",
        "colab": {
          "base_uri": "https://localhost:8080/",
          "height": 199
        },
        "outputId": "579b7328-f227-4132-c18a-abd950a1a78a"
      },
      "source": [
        "# NameError\n",
        "l[4] = \":)\""
      ],
      "execution_count": 21,
      "outputs": [
        {
          "output_type": "error",
          "ename": "IndexError",
          "evalue": "ignored",
          "traceback": [
            "\u001b[0;31m---------------------------------------------------------------------------\u001b[0m",
            "\u001b[0;31mIndexError\u001b[0m                                Traceback (most recent call last)",
            "\u001b[0;32m<ipython-input-21-bf0f23f4e4c3>\u001b[0m in \u001b[0;36m<module>\u001b[0;34m()\u001b[0m\n\u001b[1;32m      1\u001b[0m \u001b[0;31m# NameError\u001b[0m\u001b[0;34m\u001b[0m\u001b[0;34m\u001b[0m\u001b[0;34m\u001b[0m\u001b[0m\n\u001b[0;32m----> 2\u001b[0;31m \u001b[0ml\u001b[0m\u001b[0;34m[\u001b[0m\u001b[0;36m4\u001b[0m\u001b[0;34m]\u001b[0m \u001b[0;34m=\u001b[0m \u001b[0;34m\":)\"\u001b[0m\u001b[0;34m\u001b[0m\u001b[0;34m\u001b[0m\u001b[0m\n\u001b[0m",
            "\u001b[0;31mIndexError\u001b[0m: list assignment index out of range"
          ]
        }
      ]
    },
    {
      "cell_type": "code",
      "metadata": {
        "id": "jreK8tLJCvj5",
        "colab": {
          "base_uri": "https://localhost:8080/"
        },
        "outputId": "00c41864-5a44-4c97-aa2c-c005984580ff"
      },
      "source": [
        "l"
      ],
      "execution_count": 22,
      "outputs": [
        {
          "output_type": "execute_result",
          "data": {
            "text/plain": [
              "['Python!', 1, 0, 0]"
            ]
          },
          "metadata": {},
          "execution_count": 22
        }
      ]
    },
    {
      "cell_type": "code",
      "metadata": {
        "id": "omSAISZ5CweV",
        "colab": {
          "base_uri": "https://localhost:8080/"
        },
        "outputId": "51e84ae4-cfc4-43bd-d189-ca9101f9348a"
      },
      "source": [
        "l.append(\":)\")\n",
        "l"
      ],
      "execution_count": 23,
      "outputs": [
        {
          "output_type": "execute_result",
          "data": {
            "text/plain": [
              "['Python!', 1, 0, 0, ':)']"
            ]
          },
          "metadata": {},
          "execution_count": 23
        }
      ]
    },
    {
      "cell_type": "code",
      "metadata": {
        "id": "SzfHN-iiC6Ag",
        "colab": {
          "base_uri": "https://localhost:8080/"
        },
        "outputId": "42f962f0-6165-4373-f521-4c0abeee7928"
      },
      "source": [
        "len(l)"
      ],
      "execution_count": 24,
      "outputs": [
        {
          "output_type": "execute_result",
          "data": {
            "text/plain": [
              "5"
            ]
          },
          "metadata": {},
          "execution_count": 24
        }
      ]
    },
    {
      "cell_type": "code",
      "metadata": {
        "id": "MIQd0KpXC8DE",
        "colab": {
          "base_uri": "https://localhost:8080/"
        },
        "outputId": "7ffc42a1-d440-4fb9-c8dc-eaa838ba2cda"
      },
      "source": [
        "l.pop() #list.pop(index)\n",
        "l"
      ],
      "execution_count": 25,
      "outputs": [
        {
          "output_type": "execute_result",
          "data": {
            "text/plain": [
              "['Python!', 1, 0, 0]"
            ]
          },
          "metadata": {},
          "execution_count": 25
        }
      ]
    },
    {
      "cell_type": "code",
      "metadata": {
        "id": "DqMoGEKxJGn9",
        "colab": {
          "base_uri": "https://localhost:8080/"
        },
        "outputId": "1201d830-ea94-49e6-c9f4-4f863dd4f753"
      },
      "source": [
        "l.pop(3)\n",
        "l"
      ],
      "execution_count": 26,
      "outputs": [
        {
          "output_type": "execute_result",
          "data": {
            "text/plain": [
              "['Python!', 1, 0]"
            ]
          },
          "metadata": {},
          "execution_count": 26
        }
      ]
    },
    {
      "cell_type": "markdown",
      "metadata": {
        "id": "DtYagBS_qQFy"
      },
      "source": [
        "### Tuple\n",
        "\n",
        "```\n",
        "tuple = (...)\n",
        "```"
      ]
    },
    {
      "cell_type": "code",
      "metadata": {
        "id": "ueDnLunycWaY",
        "colab": {
          "base_uri": "https://localhost:8080/"
        },
        "outputId": "74fc95cf-57ff-4d05-b27b-2180bf411d72"
      },
      "source": [
        "t = (0, 1, 2, 3, 4)\n",
        "t"
      ],
      "execution_count": 27,
      "outputs": [
        {
          "output_type": "execute_result",
          "data": {
            "text/plain": [
              "(0, 1, 2, 3, 4)"
            ]
          },
          "metadata": {},
          "execution_count": 27
        }
      ]
    },
    {
      "cell_type": "code",
      "metadata": {
        "id": "au0wM8XCgn_B",
        "colab": {
          "base_uri": "https://localhost:8080/"
        },
        "outputId": "4ac1e4cf-3cff-4a02-c5e9-d9a21d33819e"
      },
      "source": [
        "len(t)"
      ],
      "execution_count": 28,
      "outputs": [
        {
          "output_type": "execute_result",
          "data": {
            "text/plain": [
              "5"
            ]
          },
          "metadata": {},
          "execution_count": 28
        }
      ]
    },
    {
      "cell_type": "code",
      "metadata": {
        "id": "_rkBkHYUguGs",
        "colab": {
          "base_uri": "https://localhost:8080/"
        },
        "outputId": "088f89e1-bfc0-403e-c0a0-7d9343a11a26"
      },
      "source": [
        "t[0:3]"
      ],
      "execution_count": 29,
      "outputs": [
        {
          "output_type": "execute_result",
          "data": {
            "text/plain": [
              "(0, 1, 2)"
            ]
          },
          "metadata": {},
          "execution_count": 29
        }
      ]
    },
    {
      "cell_type": "code",
      "metadata": {
        "id": "n3myc9P4hCBD",
        "colab": {
          "base_uri": "https://localhost:8080/"
        },
        "outputId": "333f34e5-9933-4d21-cd45-2486029642d8"
      },
      "source": [
        "t[-1]"
      ],
      "execution_count": 30,
      "outputs": [
        {
          "output_type": "execute_result",
          "data": {
            "text/plain": [
              "4"
            ]
          },
          "metadata": {},
          "execution_count": 30
        }
      ]
    },
    {
      "cell_type": "code",
      "metadata": {
        "id": "S0LgakJNhKZE",
        "colab": {
          "base_uri": "https://localhost:8080/"
        },
        "outputId": "d14b2f26-b664-4509-b4a5-017de3f3bd98"
      },
      "source": [
        "t[-3:]"
      ],
      "execution_count": 31,
      "outputs": [
        {
          "output_type": "execute_result",
          "data": {
            "text/plain": [
              "(2, 3, 4)"
            ]
          },
          "metadata": {},
          "execution_count": 31
        }
      ]
    },
    {
      "cell_type": "code",
      "metadata": {
        "id": "vj_zrSjyhZBo",
        "colab": {
          "base_uri": "https://localhost:8080/",
          "height": 199
        },
        "outputId": "535ec580-aed7-4269-c057-f5a1a7b5ded6"
      },
      "source": [
        "# TypeError: Cannot edit tuple.\n",
        "t[4] = 5"
      ],
      "execution_count": 32,
      "outputs": [
        {
          "output_type": "error",
          "ename": "TypeError",
          "evalue": "ignored",
          "traceback": [
            "\u001b[0;31m---------------------------------------------------------------------------\u001b[0m",
            "\u001b[0;31mTypeError\u001b[0m                                 Traceback (most recent call last)",
            "\u001b[0;32m<ipython-input-32-14fd85fa5839>\u001b[0m in \u001b[0;36m<module>\u001b[0;34m()\u001b[0m\n\u001b[1;32m      1\u001b[0m \u001b[0;31m# TypeError: Cannot edit tuple.\u001b[0m\u001b[0;34m\u001b[0m\u001b[0;34m\u001b[0m\u001b[0;34m\u001b[0m\u001b[0m\n\u001b[0;32m----> 2\u001b[0;31m \u001b[0mt\u001b[0m\u001b[0;34m[\u001b[0m\u001b[0;36m4\u001b[0m\u001b[0;34m]\u001b[0m \u001b[0;34m=\u001b[0m \u001b[0;36m5\u001b[0m\u001b[0;34m\u001b[0m\u001b[0;34m\u001b[0m\u001b[0m\n\u001b[0m",
            "\u001b[0;31mTypeError\u001b[0m: 'tuple' object does not support item assignment"
          ]
        }
      ]
    },
    {
      "cell_type": "markdown",
      "metadata": {
        "id": "69kUPKHLJb__"
      },
      "source": [
        "### Set\n",
        "\n",
        "```\n",
        "set = {...}\n",
        "```"
      ]
    },
    {
      "cell_type": "code",
      "metadata": {
        "id": "IzN2IwqtJehQ",
        "colab": {
          "base_uri": "https://localhost:8080/"
        },
        "outputId": "6197bc64-f7d0-405d-deee-0b3d89f1fbeb"
      },
      "source": [
        "s = {1, 1, 2, 2, 2, 3, 3, 3, 3, 3, 4, 5, 5}\n",
        "s"
      ],
      "execution_count": 33,
      "outputs": [
        {
          "output_type": "execute_result",
          "data": {
            "text/plain": [
              "{1, 2, 3, 4, 5}"
            ]
          },
          "metadata": {},
          "execution_count": 33
        }
      ]
    },
    {
      "cell_type": "code",
      "metadata": {
        "id": "uI6B8gzXK5ge",
        "colab": {
          "base_uri": "https://localhost:8080/"
        },
        "outputId": "485af2fa-5354-4fb8-8a70-5913ee5aaa5f"
      },
      "source": [
        "len(s)"
      ],
      "execution_count": 34,
      "outputs": [
        {
          "output_type": "execute_result",
          "data": {
            "text/plain": [
              "5"
            ]
          },
          "metadata": {},
          "execution_count": 34
        }
      ]
    },
    {
      "cell_type": "code",
      "metadata": {
        "id": "1Ct0_roAK8ea",
        "colab": {
          "base_uri": "https://localhost:8080/"
        },
        "outputId": "3524552e-7d83-4e59-ca77-b56a2f16df67"
      },
      "source": [
        "0 in s"
      ],
      "execution_count": 35,
      "outputs": [
        {
          "output_type": "execute_result",
          "data": {
            "text/plain": [
              "False"
            ]
          },
          "metadata": {},
          "execution_count": 35
        }
      ]
    },
    {
      "cell_type": "code",
      "metadata": {
        "id": "acEJe37MK8x-",
        "colab": {
          "base_uri": "https://localhost:8080/"
        },
        "outputId": "0a6c27b1-3d94-49ba-b11f-2463f2fce906"
      },
      "source": [
        "1 not in s"
      ],
      "execution_count": 36,
      "outputs": [
        {
          "output_type": "execute_result",
          "data": {
            "text/plain": [
              "False"
            ]
          },
          "metadata": {},
          "execution_count": 36
        }
      ]
    },
    {
      "cell_type": "code",
      "metadata": {
        "id": "bmvtDGRTJqB0"
      },
      "source": [
        "s1 = {5, 6, 6, 7}"
      ],
      "execution_count": 37,
      "outputs": []
    },
    {
      "cell_type": "code",
      "metadata": {
        "id": "E_8aIn4YLIBS",
        "colab": {
          "base_uri": "https://localhost:8080/"
        },
        "outputId": "f4a061eb-4584-4942-b87b-bcfd8e305776"
      },
      "source": [
        "print('s = ', s)\n",
        "print('s1 = ', s1)\n",
        "print('s is a subset of s1 : ', s <= s1)\n",
        "print('s union s1 = ', s | s1)\n",
        "print('s intersect s1 = ', s & s1)\n",
        "print('s difference s1', s - s1)\n",
        "print('s symetric difference s1 = ', s ^ s1)"
      ],
      "execution_count": 38,
      "outputs": [
        {
          "output_type": "stream",
          "name": "stdout",
          "text": [
            "s =  {1, 2, 3, 4, 5}\n",
            "s1 =  {5, 6, 7}\n",
            "s is a subset of s1 :  False\n",
            "s union s1 =  {1, 2, 3, 4, 5, 6, 7}\n",
            "s intersect s1 =  {5}\n",
            "s difference s1 {1, 2, 3, 4}\n",
            "s symetric difference s1 =  {1, 2, 3, 4, 6, 7}\n"
          ]
        }
      ]
    },
    {
      "cell_type": "markdown",
      "metadata": {
        "id": "5ReonijCBhrj"
      },
      "source": [
        "### Dictionary\n",
        "\n",
        "```\n",
        "dict = {key : value}\n",
        "```"
      ]
    },
    {
      "cell_type": "code",
      "metadata": {
        "id": "QvXx0QchiTts",
        "colab": {
          "base_uri": "https://localhost:8080/"
        },
        "outputId": "b0d3115a-a5cc-4aad-8482-5a1251355aea"
      },
      "source": [
        "grade = {\n",
        "    \"A\" : 80,\n",
        "    \"B\" : 70,\n",
        "    \"C\" : 60,\n",
        "    \"D\" : 50\n",
        "}\n",
        "grade"
      ],
      "execution_count": 39,
      "outputs": [
        {
          "output_type": "execute_result",
          "data": {
            "text/plain": [
              "{'A': 80, 'B': 70, 'C': 60, 'D': 50}"
            ]
          },
          "metadata": {},
          "execution_count": 39
        }
      ]
    },
    {
      "cell_type": "code",
      "metadata": {
        "id": "kK1D_Izjq8Kj",
        "colab": {
          "base_uri": "https://localhost:8080/"
        },
        "outputId": "ec5c635e-aad3-4263-a81d-275dce0f4df0"
      },
      "source": [
        "grade[\"A\"]"
      ],
      "execution_count": 40,
      "outputs": [
        {
          "output_type": "execute_result",
          "data": {
            "text/plain": [
              "80"
            ]
          },
          "metadata": {},
          "execution_count": 40
        }
      ]
    },
    {
      "cell_type": "code",
      "metadata": {
        "id": "4hSmxQg8rAOa",
        "colab": {
          "base_uri": "https://localhost:8080/"
        },
        "outputId": "27183a1d-4797-4ab5-98ba-d69fd9c82b0e"
      },
      "source": [
        "grade[\"B+\"] = 75\n",
        "grade"
      ],
      "execution_count": 41,
      "outputs": [
        {
          "output_type": "execute_result",
          "data": {
            "text/plain": [
              "{'A': 80, 'B': 70, 'B+': 75, 'C': 60, 'D': 50}"
            ]
          },
          "metadata": {},
          "execution_count": 41
        }
      ]
    },
    {
      "cell_type": "code",
      "metadata": {
        "id": "TAXxt9Z2hgwz",
        "colab": {
          "base_uri": "https://localhost:8080/"
        },
        "outputId": "74b04c85-2e97-472f-dedb-602a1c3de5a7"
      },
      "source": [
        "d = {}\n",
        "d[\"s001\"] = \"Dog\"\n",
        "d[\"s002\"] = \"Cat\"\n",
        "d"
      ],
      "execution_count": 42,
      "outputs": [
        {
          "output_type": "execute_result",
          "data": {
            "text/plain": [
              "{'s001': 'Dog', 's002': 'Cat'}"
            ]
          },
          "metadata": {},
          "execution_count": 42
        }
      ]
    },
    {
      "cell_type": "code",
      "metadata": {
        "id": "pJdFriSPBuDy",
        "colab": {
          "base_uri": "https://localhost:8080/",
          "height": 58
        },
        "outputId": "61c04a36-7a01-472b-d8eb-2e905e3aefe1"
      },
      "source": [
        "d[\"s001\"]"
      ],
      "execution_count": 43,
      "outputs": [
        {
          "output_type": "execute_result",
          "data": {
            "application/vnd.google.colaboratory.intrinsic+json": {
              "type": "string"
            },
            "text/plain": [
              "'Dog'"
            ]
          },
          "metadata": {},
          "execution_count": 43
        }
      ]
    },
    {
      "cell_type": "markdown",
      "metadata": {
        "id": "1wovioh3a9f-"
      },
      "source": [
        "## Print\n",
        "\n",
        "Print in more detail: https://realpython.com/python-print/"
      ]
    },
    {
      "cell_type": "code",
      "metadata": {
        "id": "CHKZusOdbCmf"
      },
      "source": [
        "?print"
      ],
      "execution_count": 44,
      "outputs": []
    },
    {
      "cell_type": "code",
      "metadata": {
        "colab": {
          "base_uri": "https://localhost:8080/"
        },
        "id": "IgrLkFIwdBQO",
        "outputId": "c751a3df-c17e-4ce2-f89c-5ae2e34dd88c"
      },
      "source": [
        "name = 'Limpapat'\n",
        "age = 16\n",
        "gpa = 10/3\n",
        "print('Hi! \\nMy name is', name, ', \\nI\\'m', age, 'years old, \\nMy GPA:', gpa, '.')"
      ],
      "execution_count": 45,
      "outputs": [
        {
          "output_type": "stream",
          "name": "stdout",
          "text": [
            "Hi! \n",
            "My name is Limpapat , \n",
            "I'm 16 years old, \n",
            "My GPA: 3.3333333333333335 .\n"
          ]
        }
      ]
    },
    {
      "cell_type": "code",
      "metadata": {
        "colab": {
          "base_uri": "https://localhost:8080/"
        },
        "id": "miS2LmBugN43",
        "outputId": "ddac43c6-b10e-445d-a373-7f495dcf03b0"
      },
      "source": [
        "print('Hi! \\nMy name is %s, \\nI\\'m %d years old, \\nMy GPA: %.2f' %(name, age, gpa))"
      ],
      "execution_count": 46,
      "outputs": [
        {
          "output_type": "stream",
          "name": "stdout",
          "text": [
            "Hi! \n",
            "My name is Limpapat, \n",
            "I'm 16 years old, \n",
            "My GPA: 3.33\n"
          ]
        }
      ]
    },
    {
      "cell_type": "code",
      "metadata": {
        "colab": {
          "base_uri": "https://localhost:8080/"
        },
        "id": "HkhfL-Lafdgs",
        "outputId": "0c0fef4f-d3ff-4244-efd6-fb002c63cdcb"
      },
      "source": [
        "print('Hi! \\nMy name is {}, \\nI\\'m {} years old, \\nMy GPA: {}.'.format(name, age, gpa))"
      ],
      "execution_count": 47,
      "outputs": [
        {
          "output_type": "stream",
          "name": "stdout",
          "text": [
            "Hi! \n",
            "My name is Limpapat, \n",
            "I'm 16 years old, \n",
            "My GPA: 3.3333333333333335.\n"
          ]
        }
      ]
    },
    {
      "cell_type": "code",
      "metadata": {
        "colab": {
          "base_uri": "https://localhost:8080/"
        },
        "id": "JDLGP_zkd8oy",
        "outputId": "727f7923-11cd-4053-ab66-3ebda959f43b"
      },
      "source": [
        "print(f'Hi! \\nMy name is {name}, \\nI\\'m {age} years old, \\nMy GPA: {gpa}.')"
      ],
      "execution_count": 48,
      "outputs": [
        {
          "output_type": "stream",
          "name": "stdout",
          "text": [
            "Hi! \n",
            "My name is Limpapat, \n",
            "I'm 16 years old, \n",
            "My GPA: 3.3333333333333335.\n"
          ]
        }
      ]
    }
  ]
}
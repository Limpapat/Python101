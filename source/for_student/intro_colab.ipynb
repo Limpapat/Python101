{
  "nbformat": 4,
  "nbformat_minor": 0,
  "metadata": {
    "colab": {
      "name": "intro_colab.ipynb",
      "provenance": [],
      "collapsed_sections": []
    },
    "kernelspec": {
      "name": "python3",
      "display_name": "Python 3"
    }
  },
  "cells": [
    {
      "cell_type": "markdown",
      "metadata": {
        "id": "view-in-github"
      },
      "source": [
        "<a href=\"https://colab.research.google.com/github/Limpapat/Python101/blob/main/intro_colab.ipynb\" target=\"_parent\"><img src=\"https://colab.research.google.com/assets/colab-badge.svg\" alt=\"Open In Colab\"/></a>"
      ]
    },
    {
      "cell_type": "markdown",
      "metadata": {
        "id": "rbtRfjoizPYk"
      },
      "source": [
        "# Python 101 : Introduction to Google Colab\n",
        "by Limpapat Bussaban\n",
        "\n",
        "22/08/2021"
      ]
    },
    {
      "cell_type": "code",
      "metadata": {
        "id": "MiKlogqB9HlO"
      },
      "source": [
        "# Connect to Google drive\n",
        "from google.colab import drive\n",
        "drive.mount('/content/drive')"
      ],
      "execution_count": null,
      "outputs": []
    },
    {
      "cell_type": "code",
      "metadata": {
        "id": "lQT9aYkh7cRX"
      },
      "source": [
        "# Python version\n",
        "!python2 --version\n",
        "!python3 --version"
      ],
      "execution_count": null,
      "outputs": []
    },
    {
      "cell_type": "code",
      "metadata": {
        "id": "KpU8cylCNWC6"
      },
      "source": [
        "# Help\n",
        "?print"
      ],
      "execution_count": null,
      "outputs": []
    },
    {
      "cell_type": "code",
      "metadata": {
        "id": "jlYOW3UTUaq9"
      },
      "source": [
        "# Zen of Python\n",
        "import this"
      ],
      "execution_count": null,
      "outputs": []
    },
    {
      "cell_type": "code",
      "metadata": {
        "id": "GluP3Mj2w7US"
      },
      "source": [
        "print(\"hello world\")"
      ],
      "execution_count": null,
      "outputs": []
    },
    {
      "cell_type": "code",
      "metadata": {
        "id": "RSBmkHaK_Ttq"
      },
      "source": [
        "print(\"hello\"+\"world\")\n",
        "print(\"hello\" + \" \" + \"world\")\n",
        "print(\"hello\", \"world\")\n",
        "\"Colab is easy\""
      ],
      "execution_count": null,
      "outputs": []
    },
    {
      "cell_type": "code",
      "metadata": {
        "cellView": "form",
        "id": "RjsipAUsWTNJ"
      },
      "source": [
        "import numpy as np\n",
        "import matplotlib.pyplot as plt\n",
        "\n",
        "def koch_snowflake(order, scale=10):\n",
        "  \"\"\"\n",
        "  Return two lists x, y of point coordinates of the Koch snowflake.\n",
        "\n",
        "  Parameters\n",
        "  ----------\n",
        "  order : int\n",
        "      The recursion depth.\n",
        "  scale : float\n",
        "      The extent of the snowflake (edge length of the base triangle).\n",
        "  \"\"\"\n",
        "  def _koch_snowflake_complex(order):\n",
        "      if order == 0:\n",
        "          # initial triangle\n",
        "          angles = np.array([0, 120, 240]) + 90\n",
        "          return scale / np.sqrt(3) * np.exp(np.deg2rad(angles) * 1j)\n",
        "      else:\n",
        "          ZR = 0.5 - 0.5j * np.sqrt(3) / 3\n",
        "\n",
        "          p1 = _koch_snowflake_complex(order - 1)  # start points\n",
        "          p2 = np.roll(p1, shift=-1)  # end points\n",
        "          dp = p2 - p1  # connection vectors\n",
        "\n",
        "          new_points = np.empty(len(p1) * 4, dtype=np.complex128)\n",
        "          new_points[::4] = p1\n",
        "          new_points[1::4] = p1 + dp / 3\n",
        "          new_points[2::4] = p1 + dp * ZR\n",
        "          new_points[3::4] = p1 + dp / 3 * 2\n",
        "          return new_points\n",
        "\n",
        "  points = _koch_snowflake_complex(order)\n",
        "  x, y = points.real, points.imag\n",
        "  return x, y\n",
        "\n",
        "#@title Koch snowflake\n",
        "order =  6 #@param {type:\"slider\", min:1, max:10, step:1}\n",
        "scale =  10 #@param {type:\"integer\"}\n",
        "x, y = koch_snowflake(order=order, scale=scale)\n",
        "\n",
        "plt.figure(figsize=(8, 8))\n",
        "plt.axis('equal')\n",
        "plt.fill(x, y)\n",
        "plt.show()"
      ],
      "execution_count": null,
      "outputs": []
    }
  ]
}